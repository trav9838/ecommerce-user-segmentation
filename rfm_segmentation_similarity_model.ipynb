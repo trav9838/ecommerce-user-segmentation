{
 "cells": [
  {
   "cell_type": "code",
   "execution_count": 8,
   "metadata": {},
   "outputs": [],
   "source": [
    "## Packags\n",
    "import numpy as np\n",
    "import pandas as pd\n",
    "from tqdm import tqdm\n",
    "\n",
    "import warnings\n",
    "warnings.filterwarnings('ignore')\n",
    "\n",
    "import os \n",
    "import gc\n",
    "import time\n",
    "import datetime\n",
    "\n",
    "import multiprocessing as mp\n",
    "import seaborn as sns\n",
    "import matplotlib.pyplot as plt\n",
    "import matplotlib\n",
    "%matplotlib inline"
   ]
  },
  {
   "cell_type": "code",
   "execution_count": 9,
   "metadata": {},
   "outputs": [],
   "source": [
    "action_data = pd.read_csv('./input/jd_data.csv')"
   ]
  },
  {
   "cell_type": "markdown",
   "metadata": {},
   "source": [
    "### Data Extract, Load & Transform\n",
    "In this dataset, the action_type is defined as follows:\n",
    "\n",
    "1 = Browse\n",
    "\n",
    "2 = Order\n",
    "\n",
    "3 = Follow\n",
    "\n",
    "4 = Comment\n",
    "\n",
    "5 = Add to Cart"
   ]
  },
  {
   "cell_type": "code",
   "execution_count": 10,
   "metadata": {},
   "outputs": [
    {
     "data": {
      "text/html": [
       "<div>\n",
       "<style scoped>\n",
       "    .dataframe tbody tr th:only-of-type {\n",
       "        vertical-align: middle;\n",
       "    }\n",
       "\n",
       "    .dataframe tbody tr th {\n",
       "        vertical-align: top;\n",
       "    }\n",
       "\n",
       "    .dataframe thead th {\n",
       "        text-align: right;\n",
       "    }\n",
       "</style>\n",
       "<table border=\"1\" class=\"dataframe\">\n",
       "  <thead>\n",
       "    <tr style=\"text-align: right;\">\n",
       "      <th></th>\n",
       "      <th>user_log_acct</th>\n",
       "      <th>item_sku_id</th>\n",
       "      <th>action_time</th>\n",
       "      <th>action_type</th>\n",
       "      <th>brand_code</th>\n",
       "      <th>shop_id</th>\n",
       "      <th>item_third_cate_cd</th>\n",
       "      <th>vender_id</th>\n",
       "      <th>shop_score</th>\n",
       "      <th>age</th>\n",
       "      <th>sex</th>\n",
       "      <th>user_level</th>\n",
       "      <th>province</th>\n",
       "      <th>city</th>\n",
       "      <th>county</th>\n",
       "    </tr>\n",
       "  </thead>\n",
       "  <tbody>\n",
       "    <tr>\n",
       "      <th>0</th>\n",
       "      <td>937922</td>\n",
       "      <td>357022</td>\n",
       "      <td>2020-02-04 08:28:15</td>\n",
       "      <td>1</td>\n",
       "      <td>1791.0</td>\n",
       "      <td>8703.0</td>\n",
       "      <td>10.0</td>\n",
       "      <td>5227.0</td>\n",
       "      <td>-1.000000</td>\n",
       "      <td>5.0</td>\n",
       "      <td>1.0</td>\n",
       "      <td>5</td>\n",
       "      <td>11.0</td>\n",
       "      <td>348.0</td>\n",
       "      <td>1782.0</td>\n",
       "    </tr>\n",
       "    <tr>\n",
       "      <th>1</th>\n",
       "      <td>937922</td>\n",
       "      <td>73</td>\n",
       "      <td>2020-02-04 08:27:07</td>\n",
       "      <td>1</td>\n",
       "      <td>1791.0</td>\n",
       "      <td>8703.0</td>\n",
       "      <td>10.0</td>\n",
       "      <td>5227.0</td>\n",
       "      <td>-1.000000</td>\n",
       "      <td>5.0</td>\n",
       "      <td>1.0</td>\n",
       "      <td>5</td>\n",
       "      <td>11.0</td>\n",
       "      <td>348.0</td>\n",
       "      <td>1782.0</td>\n",
       "    </tr>\n",
       "    <tr>\n",
       "      <th>2</th>\n",
       "      <td>937922</td>\n",
       "      <td>29583</td>\n",
       "      <td>2020-02-04 08:26:31</td>\n",
       "      <td>1</td>\n",
       "      <td>1791.0</td>\n",
       "      <td>2738.0</td>\n",
       "      <td>10.0</td>\n",
       "      <td>3436.0</td>\n",
       "      <td>9.206167</td>\n",
       "      <td>5.0</td>\n",
       "      <td>1.0</td>\n",
       "      <td>5</td>\n",
       "      <td>11.0</td>\n",
       "      <td>348.0</td>\n",
       "      <td>1782.0</td>\n",
       "    </tr>\n",
       "    <tr>\n",
       "      <th>3</th>\n",
       "      <td>937922</td>\n",
       "      <td>108763</td>\n",
       "      <td>2020-02-04 08:26:10</td>\n",
       "      <td>1</td>\n",
       "      <td>1791.0</td>\n",
       "      <td>2738.0</td>\n",
       "      <td>10.0</td>\n",
       "      <td>3436.0</td>\n",
       "      <td>9.206167</td>\n",
       "      <td>5.0</td>\n",
       "      <td>1.0</td>\n",
       "      <td>5</td>\n",
       "      <td>11.0</td>\n",
       "      <td>348.0</td>\n",
       "      <td>1782.0</td>\n",
       "    </tr>\n",
       "    <tr>\n",
       "      <th>4</th>\n",
       "      <td>1369473</td>\n",
       "      <td>331139</td>\n",
       "      <td>2020-02-03 21:55:49</td>\n",
       "      <td>1</td>\n",
       "      <td>9985.0</td>\n",
       "      <td>6367.0</td>\n",
       "      <td>73.0</td>\n",
       "      <td>3666.0</td>\n",
       "      <td>0.000000</td>\n",
       "      <td>5.0</td>\n",
       "      <td>1.0</td>\n",
       "      <td>5</td>\n",
       "      <td>1.0</td>\n",
       "      <td>41.0</td>\n",
       "      <td>2058.0</td>\n",
       "    </tr>\n",
       "  </tbody>\n",
       "</table>\n",
       "</div>"
      ],
      "text/plain": [
       "   user_log_acct  item_sku_id          action_time  action_type  brand_code  \\\n",
       "0         937922       357022  2020-02-04 08:28:15            1      1791.0   \n",
       "1         937922           73  2020-02-04 08:27:07            1      1791.0   \n",
       "2         937922        29583  2020-02-04 08:26:31            1      1791.0   \n",
       "3         937922       108763  2020-02-04 08:26:10            1      1791.0   \n",
       "4        1369473       331139  2020-02-03 21:55:49            1      9985.0   \n",
       "\n",
       "   shop_id  item_third_cate_cd  vender_id  shop_score  age  sex  user_level  \\\n",
       "0   8703.0                10.0     5227.0   -1.000000  5.0  1.0           5   \n",
       "1   8703.0                10.0     5227.0   -1.000000  5.0  1.0           5   \n",
       "2   2738.0                10.0     3436.0    9.206167  5.0  1.0           5   \n",
       "3   2738.0                10.0     3436.0    9.206167  5.0  1.0           5   \n",
       "4   6367.0                73.0     3666.0    0.000000  5.0  1.0           5   \n",
       "\n",
       "   province   city  county  \n",
       "0      11.0  348.0  1782.0  \n",
       "1      11.0  348.0  1782.0  \n",
       "2      11.0  348.0  1782.0  \n",
       "3      11.0  348.0  1782.0  \n",
       "4       1.0   41.0  2058.0  "
      ]
     },
     "execution_count": 10,
     "metadata": {},
     "output_type": "execute_result"
    }
   ],
   "source": [
    "action_data.head()"
   ]
  },
  {
   "cell_type": "code",
   "execution_count": 11,
   "metadata": {},
   "outputs": [
    {
     "data": {
      "text/html": [
       "<div>\n",
       "<style scoped>\n",
       "    .dataframe tbody tr th:only-of-type {\n",
       "        vertical-align: middle;\n",
       "    }\n",
       "\n",
       "    .dataframe tbody tr th {\n",
       "        vertical-align: top;\n",
       "    }\n",
       "\n",
       "    .dataframe thead th {\n",
       "        text-align: right;\n",
       "    }\n",
       "</style>\n",
       "<table border=\"1\" class=\"dataframe\">\n",
       "  <thead>\n",
       "    <tr style=\"text-align: right;\">\n",
       "      <th></th>\n",
       "      <th>user_log_acct</th>\n",
       "      <th>item_sku_id</th>\n",
       "      <th>action_time</th>\n",
       "      <th>action_type</th>\n",
       "      <th>brand_code</th>\n",
       "      <th>shop_id</th>\n",
       "      <th>item_third_cate_cd</th>\n",
       "      <th>vender_id</th>\n",
       "      <th>shop_score</th>\n",
       "      <th>age</th>\n",
       "      <th>sex</th>\n",
       "      <th>user_level</th>\n",
       "      <th>province</th>\n",
       "      <th>city</th>\n",
       "      <th>county</th>\n",
       "    </tr>\n",
       "  </thead>\n",
       "  <tbody>\n",
       "    <tr>\n",
       "      <th>count</th>\n",
       "      <td>3.721427e+07</td>\n",
       "      <td>3.721427e+07</td>\n",
       "      <td>37214269</td>\n",
       "      <td>3.721427e+07</td>\n",
       "      <td>3.685885e+07</td>\n",
       "      <td>3.685885e+07</td>\n",
       "      <td>3.685885e+07</td>\n",
       "      <td>3.685885e+07</td>\n",
       "      <td>3.685885e+07</td>\n",
       "      <td>3.719402e+07</td>\n",
       "      <td>3.719722e+07</td>\n",
       "      <td>3.721427e+07</td>\n",
       "      <td>3.719064e+07</td>\n",
       "      <td>3.719064e+07</td>\n",
       "      <td>3.719064e+07</td>\n",
       "    </tr>\n",
       "    <tr>\n",
       "      <th>unique</th>\n",
       "      <td>NaN</td>\n",
       "      <td>NaN</td>\n",
       "      <td>7587787</td>\n",
       "      <td>NaN</td>\n",
       "      <td>NaN</td>\n",
       "      <td>NaN</td>\n",
       "      <td>NaN</td>\n",
       "      <td>NaN</td>\n",
       "      <td>NaN</td>\n",
       "      <td>NaN</td>\n",
       "      <td>NaN</td>\n",
       "      <td>NaN</td>\n",
       "      <td>NaN</td>\n",
       "      <td>NaN</td>\n",
       "      <td>NaN</td>\n",
       "    </tr>\n",
       "    <tr>\n",
       "      <th>top</th>\n",
       "      <td>NaN</td>\n",
       "      <td>NaN</td>\n",
       "      <td>2020-02-21 12:20:42.0</td>\n",
       "      <td>NaN</td>\n",
       "      <td>NaN</td>\n",
       "      <td>NaN</td>\n",
       "      <td>NaN</td>\n",
       "      <td>NaN</td>\n",
       "      <td>NaN</td>\n",
       "      <td>NaN</td>\n",
       "      <td>NaN</td>\n",
       "      <td>NaN</td>\n",
       "      <td>NaN</td>\n",
       "      <td>NaN</td>\n",
       "      <td>NaN</td>\n",
       "    </tr>\n",
       "    <tr>\n",
       "      <th>freq</th>\n",
       "      <td>NaN</td>\n",
       "      <td>NaN</td>\n",
       "      <td>111</td>\n",
       "      <td>NaN</td>\n",
       "      <td>NaN</td>\n",
       "      <td>NaN</td>\n",
       "      <td>NaN</td>\n",
       "      <td>NaN</td>\n",
       "      <td>NaN</td>\n",
       "      <td>NaN</td>\n",
       "      <td>NaN</td>\n",
       "      <td>NaN</td>\n",
       "      <td>NaN</td>\n",
       "      <td>NaN</td>\n",
       "      <td>NaN</td>\n",
       "    </tr>\n",
       "    <tr>\n",
       "      <th>mean</th>\n",
       "      <td>8.031901e+05</td>\n",
       "      <td>1.894298e+05</td>\n",
       "      <td>NaN</td>\n",
       "      <td>1.213940e+00</td>\n",
       "      <td>5.005406e+03</td>\n",
       "      <td>5.284548e+03</td>\n",
       "      <td>3.333888e+01</td>\n",
       "      <td>4.309021e+03</td>\n",
       "      <td>5.730775e+00</td>\n",
       "      <td>4.675889e+00</td>\n",
       "      <td>3.426404e-01</td>\n",
       "      <td>4.964685e+00</td>\n",
       "      <td>1.647483e+01</td>\n",
       "      <td>1.926757e+02</td>\n",
       "      <td>1.396651e+03</td>\n",
       "    </tr>\n",
       "    <tr>\n",
       "      <th>std</th>\n",
       "      <td>4.646623e+05</td>\n",
       "      <td>1.085244e+05</td>\n",
       "      <td>NaN</td>\n",
       "      <td>7.204231e-01</td>\n",
       "      <td>3.232466e+03</td>\n",
       "      <td>2.905019e+03</td>\n",
       "      <td>2.654280e+01</td>\n",
       "      <td>2.215891e+03</td>\n",
       "      <td>4.650212e+00</td>\n",
       "      <td>1.526698e+00</td>\n",
       "      <td>4.790582e-01</td>\n",
       "      <td>2.335126e+00</td>\n",
       "      <td>8.349575e+00</td>\n",
       "      <td>1.077599e+02</td>\n",
       "      <td>8.265293e+02</td>\n",
       "    </tr>\n",
       "    <tr>\n",
       "      <th>min</th>\n",
       "      <td>1.000000e+00</td>\n",
       "      <td>1.000000e+00</td>\n",
       "      <td>NaN</td>\n",
       "      <td>1.000000e+00</td>\n",
       "      <td>1.000000e+00</td>\n",
       "      <td>1.000000e+00</td>\n",
       "      <td>1.000000e+00</td>\n",
       "      <td>1.000000e+00</td>\n",
       "      <td>-1.000000e+00</td>\n",
       "      <td>1.000000e+00</td>\n",
       "      <td>-1.000000e+00</td>\n",
       "      <td>1.000000e+00</td>\n",
       "      <td>1.000000e+00</td>\n",
       "      <td>1.000000e+00</td>\n",
       "      <td>1.000000e+00</td>\n",
       "    </tr>\n",
       "    <tr>\n",
       "      <th>25%</th>\n",
       "      <td>4.007620e+05</td>\n",
       "      <td>9.646500e+04</td>\n",
       "      <td>NaN</td>\n",
       "      <td>1.000000e+00</td>\n",
       "      <td>2.484000e+03</td>\n",
       "      <td>2.884000e+03</td>\n",
       "      <td>7.000000e+00</td>\n",
       "      <td>3.663000e+03</td>\n",
       "      <td>0.000000e+00</td>\n",
       "      <td>5.000000e+00</td>\n",
       "      <td>0.000000e+00</td>\n",
       "      <td>5.000000e+00</td>\n",
       "      <td>9.000000e+00</td>\n",
       "      <td>1.080000e+02</td>\n",
       "      <td>6.760000e+02</td>\n",
       "    </tr>\n",
       "    <tr>\n",
       "      <th>50%</th>\n",
       "      <td>8.017410e+05</td>\n",
       "      <td>1.879250e+05</td>\n",
       "      <td>NaN</td>\n",
       "      <td>1.000000e+00</td>\n",
       "      <td>4.356000e+03</td>\n",
       "      <td>5.523000e+03</td>\n",
       "      <td>2.600000e+01</td>\n",
       "      <td>3.666000e+03</td>\n",
       "      <td>9.312615e+00</td>\n",
       "      <td>5.000000e+00</td>\n",
       "      <td>0.000000e+00</td>\n",
       "      <td>6.000000e+00</td>\n",
       "      <td>1.900000e+01</td>\n",
       "      <td>1.910000e+02</td>\n",
       "      <td>1.430000e+03</td>\n",
       "    </tr>\n",
       "    <tr>\n",
       "      <th>75%</th>\n",
       "      <td>1.206948e+06</td>\n",
       "      <td>2.838930e+05</td>\n",
       "      <td>NaN</td>\n",
       "      <td>1.000000e+00</td>\n",
       "      <td>7.628000e+03</td>\n",
       "      <td>7.794000e+03</td>\n",
       "      <td>5.800000e+01</td>\n",
       "      <td>5.522000e+03</td>\n",
       "      <td>9.541875e+00</td>\n",
       "      <td>6.000000e+00</td>\n",
       "      <td>1.000000e+00</td>\n",
       "      <td>7.000000e+00</td>\n",
       "      <td>2.300000e+01</td>\n",
       "      <td>2.890000e+02</td>\n",
       "      <td>2.136000e+03</td>\n",
       "    </tr>\n",
       "    <tr>\n",
       "      <th>max</th>\n",
       "      <td>1.608707e+06</td>\n",
       "      <td>3.784570e+05</td>\n",
       "      <td>NaN</td>\n",
       "      <td>5.000000e+00</td>\n",
       "      <td>1.119900e+04</td>\n",
       "      <td>1.039900e+04</td>\n",
       "      <td>8.100000e+01</td>\n",
       "      <td>9.755000e+03</td>\n",
       "      <td>1.000000e+01</td>\n",
       "      <td>6.000000e+00</td>\n",
       "      <td>1.000000e+00</td>\n",
       "      <td>7.000000e+00</td>\n",
       "      <td>3.100000e+01</td>\n",
       "      <td>3.660000e+02</td>\n",
       "      <td>2.831000e+03</td>\n",
       "    </tr>\n",
       "  </tbody>\n",
       "</table>\n",
       "</div>"
      ],
      "text/plain": [
       "        user_log_acct   item_sku_id            action_time   action_type  \\\n",
       "count    3.721427e+07  3.721427e+07               37214269  3.721427e+07   \n",
       "unique            NaN           NaN                7587787           NaN   \n",
       "top               NaN           NaN  2020-02-21 12:20:42.0           NaN   \n",
       "freq              NaN           NaN                    111           NaN   \n",
       "mean     8.031901e+05  1.894298e+05                    NaN  1.213940e+00   \n",
       "std      4.646623e+05  1.085244e+05                    NaN  7.204231e-01   \n",
       "min      1.000000e+00  1.000000e+00                    NaN  1.000000e+00   \n",
       "25%      4.007620e+05  9.646500e+04                    NaN  1.000000e+00   \n",
       "50%      8.017410e+05  1.879250e+05                    NaN  1.000000e+00   \n",
       "75%      1.206948e+06  2.838930e+05                    NaN  1.000000e+00   \n",
       "max      1.608707e+06  3.784570e+05                    NaN  5.000000e+00   \n",
       "\n",
       "          brand_code       shop_id  item_third_cate_cd     vender_id  \\\n",
       "count   3.685885e+07  3.685885e+07        3.685885e+07  3.685885e+07   \n",
       "unique           NaN           NaN                 NaN           NaN   \n",
       "top              NaN           NaN                 NaN           NaN   \n",
       "freq             NaN           NaN                 NaN           NaN   \n",
       "mean    5.005406e+03  5.284548e+03        3.333888e+01  4.309021e+03   \n",
       "std     3.232466e+03  2.905019e+03        2.654280e+01  2.215891e+03   \n",
       "min     1.000000e+00  1.000000e+00        1.000000e+00  1.000000e+00   \n",
       "25%     2.484000e+03  2.884000e+03        7.000000e+00  3.663000e+03   \n",
       "50%     4.356000e+03  5.523000e+03        2.600000e+01  3.666000e+03   \n",
       "75%     7.628000e+03  7.794000e+03        5.800000e+01  5.522000e+03   \n",
       "max     1.119900e+04  1.039900e+04        8.100000e+01  9.755000e+03   \n",
       "\n",
       "          shop_score           age           sex    user_level      province  \\\n",
       "count   3.685885e+07  3.719402e+07  3.719722e+07  3.721427e+07  3.719064e+07   \n",
       "unique           NaN           NaN           NaN           NaN           NaN   \n",
       "top              NaN           NaN           NaN           NaN           NaN   \n",
       "freq             NaN           NaN           NaN           NaN           NaN   \n",
       "mean    5.730775e+00  4.675889e+00  3.426404e-01  4.964685e+00  1.647483e+01   \n",
       "std     4.650212e+00  1.526698e+00  4.790582e-01  2.335126e+00  8.349575e+00   \n",
       "min    -1.000000e+00  1.000000e+00 -1.000000e+00  1.000000e+00  1.000000e+00   \n",
       "25%     0.000000e+00  5.000000e+00  0.000000e+00  5.000000e+00  9.000000e+00   \n",
       "50%     9.312615e+00  5.000000e+00  0.000000e+00  6.000000e+00  1.900000e+01   \n",
       "75%     9.541875e+00  6.000000e+00  1.000000e+00  7.000000e+00  2.300000e+01   \n",
       "max     1.000000e+01  6.000000e+00  1.000000e+00  7.000000e+00  3.100000e+01   \n",
       "\n",
       "                city        county  \n",
       "count   3.719064e+07  3.719064e+07  \n",
       "unique           NaN           NaN  \n",
       "top              NaN           NaN  \n",
       "freq             NaN           NaN  \n",
       "mean    1.926757e+02  1.396651e+03  \n",
       "std     1.077599e+02  8.265293e+02  \n",
       "min     1.000000e+00  1.000000e+00  \n",
       "25%     1.080000e+02  6.760000e+02  \n",
       "50%     1.910000e+02  1.430000e+03  \n",
       "75%     2.890000e+02  2.136000e+03  \n",
       "max     3.660000e+02  2.831000e+03  "
      ]
     },
     "execution_count": 11,
     "metadata": {},
     "output_type": "execute_result"
    }
   ],
   "source": [
    "action_data.describe(include='all')"
   ]
  },
  {
   "cell_type": "code",
   "execution_count": 12,
   "metadata": {},
   "outputs": [
    {
     "data": {
      "text/plain": [
       "user_log_acct              0\n",
       "item_sku_id                0\n",
       "action_time                0\n",
       "action_type                0\n",
       "brand_code            355423\n",
       "shop_id               355423\n",
       "item_third_cate_cd    355423\n",
       "vender_id             355423\n",
       "shop_score            355423\n",
       "age                    20252\n",
       "sex                    17050\n",
       "user_level                 0\n",
       "province               23626\n",
       "city                   23626\n",
       "county                 23626\n",
       "dtype: int64"
      ]
     },
     "execution_count": 12,
     "metadata": {},
     "output_type": "execute_result"
    }
   ],
   "source": [
    "# Check Missing Values\n",
    "action_data.isnull().sum()"
   ]
  },
  {
   "cell_type": "markdown",
   "metadata": {},
   "source": [
    "There are still a lot of missing values in the data, mainly product attributes (brand_code, shop_id, etc.) and user information (province, city)."
   ]
  },
  {
   "cell_type": "code",
   "execution_count": 13,
   "metadata": {},
   "outputs": [
    {
     "data": {
      "text/plain": [
       "'2020-02-04 08:28:15'"
      ]
     },
     "execution_count": 13,
     "metadata": {},
     "output_type": "execute_result"
    }
   ],
   "source": [
    "# Check and clean \"Date\" Value\n",
    "action_data['dd_len'] = action_data['action_time'].apply(lambda x: len(str(x)))\n",
    "action_data[action_data['dd_len']==21]['action_time'].values[0]\n",
    "action_data[action_data['dd_len']==19]['action_time'].values[0]"
   ]
  },
  {
   "cell_type": "code",
   "execution_count": 14,
   "metadata": {},
   "outputs": [],
   "source": [
    "# Abnormalities exsit\n",
    "# action_data['dd_len'] = action_data['action_time'].apply(lambda x: len(str(x)))\n",
    "action_data['action_time'] = action_data['action_time'].apply(lambda x: x[:19])\n",
    "del action_data['dd_len']\n",
    "\n",
    "# Transform date into the format of \"datetime64\"\n",
    "action_data['timestamp'] = pd.to_datetime(action_data['action_time'])\n",
    "# Extract Time\n",
    "action_data['date'] = action_data['timestamp'].dt.date\n",
    "action_data['time'] = action_data['timestamp'].dt.time\n",
    "# Extract Hour\n",
    "action_data['hour'] = action_data['timestamp'].dt.hour"
   ]
  },
  {
   "cell_type": "code",
   "execution_count": 15,
   "metadata": {},
   "outputs": [
    {
     "data": {
      "text/plain": [
       "(datetime.date(2020, 4, 8), datetime.date(2020, 4, 15))"
      ]
     },
     "execution_count": 15,
     "metadata": {},
     "output_type": "execute_result"
    }
   ],
   "source": [
    "action_data[action_data.action_type==5]['date'].min(), action_data[action_data.action_type==5]['date'].max()"
   ]
  },
  {
   "cell_type": "markdown",
   "metadata": {},
   "source": [
    "Due to issues with data acquisition, the add-on behavior was only present from April 8 to April 15, so only this data was used for the path analysis"
   ]
  },
  {
   "cell_type": "code",
   "execution_count": 16,
   "metadata": {},
   "outputs": [],
   "source": [
    "data = action_data[action_data['date']>=action_data[action_data.action_type==5]['date'].min()]\n",
    "\n",
    "# Handling of sub-behavior\n",
    "click_df = data[data['action_type']==1]\n",
    "cart_df = data[data['action_type']==5]\n",
    "order_df = data[data['action_type']==2]\n",
    "follow_df = data[data['action_type']==3]"
   ]
  },
  {
   "cell_type": "code",
   "execution_count": 17,
   "metadata": {},
   "outputs": [
    {
     "data": {
      "text/html": [
       "<div>\n",
       "<style scoped>\n",
       "    .dataframe tbody tr th:only-of-type {\n",
       "        vertical-align: middle;\n",
       "    }\n",
       "\n",
       "    .dataframe tbody tr th {\n",
       "        vertical-align: top;\n",
       "    }\n",
       "\n",
       "    .dataframe thead th {\n",
       "        text-align: right;\n",
       "    }\n",
       "</style>\n",
       "<table border=\"1\" class=\"dataframe\">\n",
       "  <thead>\n",
       "    <tr style=\"text-align: right;\">\n",
       "      <th></th>\n",
       "      <th>user_log_acct</th>\n",
       "      <th>item_sku_id</th>\n",
       "      <th>action_time</th>\n",
       "      <th>action_type</th>\n",
       "      <th>brand_code</th>\n",
       "      <th>shop_id</th>\n",
       "      <th>item_third_cate_cd</th>\n",
       "      <th>vender_id</th>\n",
       "      <th>shop_score</th>\n",
       "      <th>age</th>\n",
       "      <th>sex</th>\n",
       "      <th>user_level</th>\n",
       "      <th>province</th>\n",
       "      <th>city</th>\n",
       "      <th>county</th>\n",
       "      <th>timestamp</th>\n",
       "      <th>date</th>\n",
       "      <th>time</th>\n",
       "      <th>hour</th>\n",
       "    </tr>\n",
       "  </thead>\n",
       "  <tbody>\n",
       "    <tr>\n",
       "      <th>17</th>\n",
       "      <td>1455298</td>\n",
       "      <td>208441</td>\n",
       "      <td>2020-04-11 15:21:43</td>\n",
       "      <td>1</td>\n",
       "      <td>2484.0</td>\n",
       "      <td>9583.0</td>\n",
       "      <td>8.0</td>\n",
       "      <td>4874.0</td>\n",
       "      <td>9.605158</td>\n",
       "      <td>5.0</td>\n",
       "      <td>1.0</td>\n",
       "      <td>1</td>\n",
       "      <td>8.0</td>\n",
       "      <td>182.0</td>\n",
       "      <td>1650.0</td>\n",
       "      <td>2020-04-11 15:21:43</td>\n",
       "      <td>2020-04-11</td>\n",
       "      <td>15:21:43</td>\n",
       "      <td>15</td>\n",
       "    </tr>\n",
       "    <tr>\n",
       "      <th>18</th>\n",
       "      <td>1455298</td>\n",
       "      <td>334318</td>\n",
       "      <td>2020-04-11 15:14:54</td>\n",
       "      <td>1</td>\n",
       "      <td>2484.0</td>\n",
       "      <td>3230.0</td>\n",
       "      <td>8.0</td>\n",
       "      <td>3184.0</td>\n",
       "      <td>9.427261</td>\n",
       "      <td>5.0</td>\n",
       "      <td>1.0</td>\n",
       "      <td>1</td>\n",
       "      <td>8.0</td>\n",
       "      <td>182.0</td>\n",
       "      <td>1650.0</td>\n",
       "      <td>2020-04-11 15:14:54</td>\n",
       "      <td>2020-04-11</td>\n",
       "      <td>15:14:54</td>\n",
       "      <td>15</td>\n",
       "    </tr>\n",
       "    <tr>\n",
       "      <th>19</th>\n",
       "      <td>1455298</td>\n",
       "      <td>237755</td>\n",
       "      <td>2020-04-11 15:14:13</td>\n",
       "      <td>1</td>\n",
       "      <td>2484.0</td>\n",
       "      <td>4178.0</td>\n",
       "      <td>8.0</td>\n",
       "      <td>3666.0</td>\n",
       "      <td>0.000000</td>\n",
       "      <td>5.0</td>\n",
       "      <td>1.0</td>\n",
       "      <td>1</td>\n",
       "      <td>8.0</td>\n",
       "      <td>182.0</td>\n",
       "      <td>1650.0</td>\n",
       "      <td>2020-04-11 15:14:13</td>\n",
       "      <td>2020-04-11</td>\n",
       "      <td>15:14:13</td>\n",
       "      <td>15</td>\n",
       "    </tr>\n",
       "    <tr>\n",
       "      <th>20</th>\n",
       "      <td>1455298</td>\n",
       "      <td>6422</td>\n",
       "      <td>2020-04-11 15:22:25</td>\n",
       "      <td>1</td>\n",
       "      <td>2484.0</td>\n",
       "      <td>4019.0</td>\n",
       "      <td>8.0</td>\n",
       "      <td>8398.0</td>\n",
       "      <td>9.393827</td>\n",
       "      <td>5.0</td>\n",
       "      <td>1.0</td>\n",
       "      <td>1</td>\n",
       "      <td>8.0</td>\n",
       "      <td>182.0</td>\n",
       "      <td>1650.0</td>\n",
       "      <td>2020-04-11 15:22:25</td>\n",
       "      <td>2020-04-11</td>\n",
       "      <td>15:22:25</td>\n",
       "      <td>15</td>\n",
       "    </tr>\n",
       "    <tr>\n",
       "      <th>21</th>\n",
       "      <td>1455298</td>\n",
       "      <td>268566</td>\n",
       "      <td>2020-04-11 15:14:26</td>\n",
       "      <td>1</td>\n",
       "      <td>2484.0</td>\n",
       "      <td>4178.0</td>\n",
       "      <td>8.0</td>\n",
       "      <td>3666.0</td>\n",
       "      <td>0.000000</td>\n",
       "      <td>5.0</td>\n",
       "      <td>1.0</td>\n",
       "      <td>1</td>\n",
       "      <td>8.0</td>\n",
       "      <td>182.0</td>\n",
       "      <td>1650.0</td>\n",
       "      <td>2020-04-11 15:14:26</td>\n",
       "      <td>2020-04-11</td>\n",
       "      <td>15:14:26</td>\n",
       "      <td>15</td>\n",
       "    </tr>\n",
       "  </tbody>\n",
       "</table>\n",
       "</div>"
      ],
      "text/plain": [
       "    user_log_acct  item_sku_id          action_time  action_type  brand_code  \\\n",
       "17        1455298       208441  2020-04-11 15:21:43            1      2484.0   \n",
       "18        1455298       334318  2020-04-11 15:14:54            1      2484.0   \n",
       "19        1455298       237755  2020-04-11 15:14:13            1      2484.0   \n",
       "20        1455298         6422  2020-04-11 15:22:25            1      2484.0   \n",
       "21        1455298       268566  2020-04-11 15:14:26            1      2484.0   \n",
       "\n",
       "    shop_id  item_third_cate_cd  vender_id  shop_score  age  sex  user_level  \\\n",
       "17   9583.0                 8.0     4874.0    9.605158  5.0  1.0           1   \n",
       "18   3230.0                 8.0     3184.0    9.427261  5.0  1.0           1   \n",
       "19   4178.0                 8.0     3666.0    0.000000  5.0  1.0           1   \n",
       "20   4019.0                 8.0     8398.0    9.393827  5.0  1.0           1   \n",
       "21   4178.0                 8.0     3666.0    0.000000  5.0  1.0           1   \n",
       "\n",
       "    province   city  county           timestamp        date      time  hour  \n",
       "17       8.0  182.0  1650.0 2020-04-11 15:21:43  2020-04-11  15:21:43    15  \n",
       "18       8.0  182.0  1650.0 2020-04-11 15:14:54  2020-04-11  15:14:54    15  \n",
       "19       8.0  182.0  1650.0 2020-04-11 15:14:13  2020-04-11  15:14:13    15  \n",
       "20       8.0  182.0  1650.0 2020-04-11 15:22:25  2020-04-11  15:22:25    15  \n",
       "21       8.0  182.0  1650.0 2020-04-11 15:14:26  2020-04-11  15:14:26    15  "
      ]
     },
     "execution_count": 17,
     "metadata": {},
     "output_type": "execute_result"
    }
   ],
   "source": [
    "click_df.head()"
   ]
  },
  {
   "cell_type": "code",
   "execution_count": 18,
   "metadata": {},
   "outputs": [
    {
     "name": "stdout",
     "output_type": "stream",
     "text": [
      "(3106625, 19)\n",
      "(2848556, 19)\n"
     ]
    }
   ],
   "source": [
    "# Repeated Behavior Filtering\n",
    "print(click_df.shape)\n",
    "click_df = click_df.drop_duplicates(['user_log_acct','item_sku_id','item_third_cate_cd','date'], keep='first')\n",
    "print(click_df.shape)\n",
    "cart_df = cart_df.drop_duplicates(['user_log_acct','item_sku_id','item_third_cate_cd','date'], keep='first')\n",
    "order_df = order_df.drop_duplicates(['user_log_acct','item_sku_id','item_third_cate_cd','date'], keep='first')\n",
    "follow_df = follow_df.drop_duplicates(['user_log_acct','item_sku_id','item_third_cate_cd','date'], keep='first')"
   ]
  },
  {
   "cell_type": "code",
   "execution_count": 19,
   "metadata": {},
   "outputs": [],
   "source": [
    "# Merging Dataframe\n",
    "cart_df['action_cart'] = 1\n",
    "order_df['action_order'] = 1\n",
    "follow_df['action_follow'] = 1\n",
    "\n",
    "cart_df['cart_time'] = cart_df['action_time']\n",
    "order_df['order_time'] = order_df['action_time']\n",
    "follow_df['follow_time'] = follow_df['action_time']\n",
    "\n",
    "click_df = click_df.merge(cart_df[['user_log_acct','item_sku_id','date','cart_time','action_cart']], on=['user_log_acct','item_sku_id','date'], how='left')\n",
    "click_df = click_df.merge(order_df[['user_log_acct','item_sku_id','date','order_time','action_order']], on=['user_log_acct','item_sku_id','date'], how='left')\n",
    "click_df = click_df.merge(follow_df[['user_log_acct','item_sku_id','date','follow_time','action_follow']], on=['user_log_acct','item_sku_id','date'], how='left')\n",
    "\n",
    "click_df = click_df.fillna(0)"
   ]
  },
  {
   "cell_type": "code",
   "execution_count": 20,
   "metadata": {},
   "outputs": [
    {
     "data": {
      "text/html": [
       "<div>\n",
       "<style scoped>\n",
       "    .dataframe tbody tr th:only-of-type {\n",
       "        vertical-align: middle;\n",
       "    }\n",
       "\n",
       "    .dataframe tbody tr th {\n",
       "        vertical-align: top;\n",
       "    }\n",
       "\n",
       "    .dataframe thead th {\n",
       "        text-align: right;\n",
       "    }\n",
       "</style>\n",
       "<table border=\"1\" class=\"dataframe\">\n",
       "  <thead>\n",
       "    <tr style=\"text-align: right;\">\n",
       "      <th></th>\n",
       "      <th>user_log_acct</th>\n",
       "      <th>item_sku_id</th>\n",
       "      <th>action_time</th>\n",
       "      <th>action_type</th>\n",
       "      <th>brand_code</th>\n",
       "      <th>shop_id</th>\n",
       "      <th>item_third_cate_cd</th>\n",
       "      <th>vender_id</th>\n",
       "      <th>shop_score</th>\n",
       "      <th>age</th>\n",
       "      <th>...</th>\n",
       "      <th>timestamp</th>\n",
       "      <th>date</th>\n",
       "      <th>time</th>\n",
       "      <th>hour</th>\n",
       "      <th>cart_time</th>\n",
       "      <th>action_cart</th>\n",
       "      <th>order_time</th>\n",
       "      <th>action_order</th>\n",
       "      <th>follow_time</th>\n",
       "      <th>action_follow</th>\n",
       "    </tr>\n",
       "  </thead>\n",
       "  <tbody>\n",
       "    <tr>\n",
       "      <th>0</th>\n",
       "      <td>1455298</td>\n",
       "      <td>208441</td>\n",
       "      <td>2020-04-11 15:21:43</td>\n",
       "      <td>1</td>\n",
       "      <td>2484.0</td>\n",
       "      <td>9583.0</td>\n",
       "      <td>8.0</td>\n",
       "      <td>4874.0</td>\n",
       "      <td>9.605158</td>\n",
       "      <td>5.0</td>\n",
       "      <td>...</td>\n",
       "      <td>2020-04-11 15:21:43</td>\n",
       "      <td>2020-04-11</td>\n",
       "      <td>15:21:43</td>\n",
       "      <td>15</td>\n",
       "      <td>0</td>\n",
       "      <td>0.0</td>\n",
       "      <td>0</td>\n",
       "      <td>0.0</td>\n",
       "      <td>0</td>\n",
       "      <td>0.0</td>\n",
       "    </tr>\n",
       "    <tr>\n",
       "      <th>1</th>\n",
       "      <td>1455298</td>\n",
       "      <td>334318</td>\n",
       "      <td>2020-04-11 15:14:54</td>\n",
       "      <td>1</td>\n",
       "      <td>2484.0</td>\n",
       "      <td>3230.0</td>\n",
       "      <td>8.0</td>\n",
       "      <td>3184.0</td>\n",
       "      <td>9.427261</td>\n",
       "      <td>5.0</td>\n",
       "      <td>...</td>\n",
       "      <td>2020-04-11 15:14:54</td>\n",
       "      <td>2020-04-11</td>\n",
       "      <td>15:14:54</td>\n",
       "      <td>15</td>\n",
       "      <td>2020-04-11 15:21:38</td>\n",
       "      <td>1.0</td>\n",
       "      <td>2020-04-11 15:26:42</td>\n",
       "      <td>1.0</td>\n",
       "      <td>0</td>\n",
       "      <td>0.0</td>\n",
       "    </tr>\n",
       "    <tr>\n",
       "      <th>2</th>\n",
       "      <td>1455298</td>\n",
       "      <td>237755</td>\n",
       "      <td>2020-04-11 15:14:13</td>\n",
       "      <td>1</td>\n",
       "      <td>2484.0</td>\n",
       "      <td>4178.0</td>\n",
       "      <td>8.0</td>\n",
       "      <td>3666.0</td>\n",
       "      <td>0.000000</td>\n",
       "      <td>5.0</td>\n",
       "      <td>...</td>\n",
       "      <td>2020-04-11 15:14:13</td>\n",
       "      <td>2020-04-11</td>\n",
       "      <td>15:14:13</td>\n",
       "      <td>15</td>\n",
       "      <td>0</td>\n",
       "      <td>0.0</td>\n",
       "      <td>0</td>\n",
       "      <td>0.0</td>\n",
       "      <td>0</td>\n",
       "      <td>0.0</td>\n",
       "    </tr>\n",
       "    <tr>\n",
       "      <th>3</th>\n",
       "      <td>1455298</td>\n",
       "      <td>6422</td>\n",
       "      <td>2020-04-11 15:22:25</td>\n",
       "      <td>1</td>\n",
       "      <td>2484.0</td>\n",
       "      <td>4019.0</td>\n",
       "      <td>8.0</td>\n",
       "      <td>8398.0</td>\n",
       "      <td>9.393827</td>\n",
       "      <td>5.0</td>\n",
       "      <td>...</td>\n",
       "      <td>2020-04-11 15:22:25</td>\n",
       "      <td>2020-04-11</td>\n",
       "      <td>15:22:25</td>\n",
       "      <td>15</td>\n",
       "      <td>0</td>\n",
       "      <td>0.0</td>\n",
       "      <td>0</td>\n",
       "      <td>0.0</td>\n",
       "      <td>0</td>\n",
       "      <td>0.0</td>\n",
       "    </tr>\n",
       "    <tr>\n",
       "      <th>4</th>\n",
       "      <td>1455298</td>\n",
       "      <td>268566</td>\n",
       "      <td>2020-04-11 15:14:26</td>\n",
       "      <td>1</td>\n",
       "      <td>2484.0</td>\n",
       "      <td>4178.0</td>\n",
       "      <td>8.0</td>\n",
       "      <td>3666.0</td>\n",
       "      <td>0.000000</td>\n",
       "      <td>5.0</td>\n",
       "      <td>...</td>\n",
       "      <td>2020-04-11 15:14:26</td>\n",
       "      <td>2020-04-11</td>\n",
       "      <td>15:14:26</td>\n",
       "      <td>15</td>\n",
       "      <td>0</td>\n",
       "      <td>0.0</td>\n",
       "      <td>0</td>\n",
       "      <td>0.0</td>\n",
       "      <td>0</td>\n",
       "      <td>0.0</td>\n",
       "    </tr>\n",
       "  </tbody>\n",
       "</table>\n",
       "<p>5 rows × 25 columns</p>\n",
       "</div>"
      ],
      "text/plain": [
       "   user_log_acct  item_sku_id          action_time  action_type  brand_code  \\\n",
       "0        1455298       208441  2020-04-11 15:21:43            1      2484.0   \n",
       "1        1455298       334318  2020-04-11 15:14:54            1      2484.0   \n",
       "2        1455298       237755  2020-04-11 15:14:13            1      2484.0   \n",
       "3        1455298         6422  2020-04-11 15:22:25            1      2484.0   \n",
       "4        1455298       268566  2020-04-11 15:14:26            1      2484.0   \n",
       "\n",
       "   shop_id  item_third_cate_cd  vender_id  shop_score  age  ...  \\\n",
       "0   9583.0                 8.0     4874.0    9.605158  5.0  ...   \n",
       "1   3230.0                 8.0     3184.0    9.427261  5.0  ...   \n",
       "2   4178.0                 8.0     3666.0    0.000000  5.0  ...   \n",
       "3   4019.0                 8.0     8398.0    9.393827  5.0  ...   \n",
       "4   4178.0                 8.0     3666.0    0.000000  5.0  ...   \n",
       "\n",
       "            timestamp        date      time  hour            cart_time  \\\n",
       "0 2020-04-11 15:21:43  2020-04-11  15:21:43    15                    0   \n",
       "1 2020-04-11 15:14:54  2020-04-11  15:14:54    15  2020-04-11 15:21:38   \n",
       "2 2020-04-11 15:14:13  2020-04-11  15:14:13    15                    0   \n",
       "3 2020-04-11 15:22:25  2020-04-11  15:22:25    15                    0   \n",
       "4 2020-04-11 15:14:26  2020-04-11  15:14:26    15                    0   \n",
       "\n",
       "  action_cart           order_time action_order  follow_time action_follow  \n",
       "0         0.0                    0          0.0            0           0.0  \n",
       "1         1.0  2020-04-11 15:26:42          1.0            0           0.0  \n",
       "2         0.0                    0          0.0            0           0.0  \n",
       "3         0.0                    0          0.0            0           0.0  \n",
       "4         0.0                    0          0.0            0           0.0  \n",
       "\n",
       "[5 rows x 25 columns]"
      ]
     },
     "execution_count": 20,
     "metadata": {},
     "output_type": "execute_result"
    }
   ],
   "source": [
    "click_df.head()"
   ]
  },
  {
   "cell_type": "markdown",
   "metadata": {},
   "source": [
    "Analyze the dataset based on the questions posed previously\n",
    "\n",
    "### Traffic and conversion metrics"
   ]
  },
  {
   "cell_type": "markdown",
   "metadata": {},
   "source": [
    "#### Pageviews PV and Unique Visitors UV\n",
    "\n"
   ]
  },
  {
   "cell_type": "code",
   "execution_count": 21,
   "metadata": {},
   "outputs": [
    {
     "data": {
      "image/png": "[encoded data removed]",
      "text/plain": [
       "<Figure size 1000x500 with 2 Axes>"
      ]
     },
     "metadata": {},
     "output_type": "display_data"
    }
   ],
   "source": [
    "# Define functions that can be grouped by the received key values, returning pv and uv\n",
    "def cal_pvuv(key = ''): \n",
    "    pv = action_data.groupby(key)['user_log_acct'].count()\n",
    "    pv.name = 'pv'\n",
    "    uv = action_data.groupby(key)['user_log_acct'].apply(lambda x: x.drop_duplicates().count())\n",
    "    uv.name = 'uv'\n",
    "    return pd.concat([pv,uv], axis = 1).reset_index()\n",
    "pvuv_daily = cal_pvuv('date') # Get pv and uv data aggregated by date\n",
    "ax = pvuv_daily.plot(\n",
    "    x='date',\n",
    "    y='pv',\n",
    "    color='#2ECC71',      \n",
    "    grid=True,\n",
    "    figsize=(10, 5),\n",
    "    label='PV'\n",
    ")\n",
    "\n",
    "pvuv_daily.plot(\n",
    "    x='date',\n",
    "    y='uv',\n",
    "    ax=ax,\n",
    "    color='#E74C3C',      \n",
    "    secondary_y=True,\n",
    "    label='UV'\n",
    ")\n",
    "plt.title('Daily PV and UV (Green for PV, Red for UV)')\n",
    "plt.show()"
   ]
  },
  {
   "cell_type": "markdown",
   "metadata": {},
   "source": [
    "From the figure can be seen pv and uv overall change trend is the same, February 15 is pv and uv stage peak, March 27, 28 two days there are obvious anomalies, the probability is due to the data sampling caused by the problem"
   ]
  },
  {
   "cell_type": "markdown",
   "metadata": {},
   "source": [
    "Next go by the hour to analyze the user's behavioral habits:"
   ]
  },
  {
   "cell_type": "code",
   "execution_count": 22,
   "metadata": {},
   "outputs": [
    {
     "data": {
      "image/png": "[encoded data removed]",
      "text/plain": [
       "<Figure size 1000x500 with 2 Axes>"
      ]
     },
     "metadata": {},
     "output_type": "display_data"
    }
   ],
   "source": [
    "pvuv_hour = cal_pvuv('hour')\n",
    "ax = pvuv_hour.plot(\n",
    "    x='hour',\n",
    "    y='pv',\n",
    "    color='#2ECC71',      \n",
    "    grid=True,\n",
    "    figsize=(10, 5),\n",
    "    label='PV'\n",
    ")\n",
    "\n",
    "pvuv_hour.plot(\n",
    "    x='hour',\n",
    "    y='uv',\n",
    "    ax=ax,\n",
    "    color='#E74C3C',      \n",
    "    secondary_y=True,\n",
    "    label='UV'\n",
    ")\n",
    "plt.title('Hourly PV and UV')\n",
    "plt.show()"
   ]
  },
  {
   "cell_type": "markdown",
   "metadata": {},
   "source": [
    "From the above chart can be seen from the user's active time from 10 am to 10 pm, especially from 6 pm to show a clear upward trend, to peak at about 9 pm, which is in line with most people's daily routine. It can be suggested that the store adjust the customer service hours, increase the number of customer service from 6 pm to 10 pm, prompting users to convert from browsing to buying."
   ]
  },
  {
   "cell_type": "markdown",
   "metadata": {},
   "source": [
    "#### Average Page Depth nad Bounce Rate"
   ]
  },
  {
   "cell_type": "code",
   "execution_count": 23,
   "metadata": {},
   "outputs": [
    {
     "name": "stdout",
     "output_type": "stream",
     "text": [
      "Average Depth of Visits： 20.6\n",
      "Bounce Rate： 5.537% \n"
     ]
    }
   ],
   "source": [
    "# Calculate total number of users\n",
    "uv_count = len(action_data.user_log_acct.unique())\n",
    "# Calculate the total number of page views\n",
    "pv_count = action_data[action_data.action_type == 1].shape[0]\n",
    "# Calculate the average visit depth\n",
    "print('Average Depth of Visits： %.1f' % (pv_count / uv_count))\n",
    "# Calculate the number of pages viewed per user\n",
    "pv_count_perUser = action_data[action_data['action_type'] == 1].groupby('user_log_acct')['action_type']\\\n",
    "                     .count().reset_index().rename(columns = {'action_type':'pv_count'})\n",
    "# Count the number of users who have viewed the interface only once\n",
    "bounce_user_count = pv_count_perUser[pv_count_perUser['pv_count'] == 1].shape[0]\n",
    "print('Bounce Rate： %.3f%% ' % (100 * (bounce_user_count / uv_count)))"
   ]
  },
  {
   "cell_type": "code",
   "execution_count": 24,
   "metadata": {},
   "outputs": [
    {
     "data": {
      "text/plain": [
       "2.9126213592233006"
      ]
     },
     "execution_count": 24,
     "metadata": {},
     "output_type": "execute_result"
    }
   ],
   "source": [
    "60 / 20.6"
   ]
  },
  {
   "cell_type": "markdown",
   "metadata": {},
   "source": [
    "The average user visit depth is 20.6, which means that between February and April, each user visited around 3 pages per day on average. This suggests that JD.com's user stickiness is moderate.\n",
    "\n",
    "If we calculate the churn rate as the number of users who only viewed one page divided by the total number of users, we find that only 89,081 users churned, resulting in a bounce rate of approximately 5.537%. Therefore, the platform's overall churn rate is quite low.\n",
    "\n",
    "I suggest considering users who only have browsing records but no other actions as churned users, and analyzing the reasons behind their bounce behavior.\n",
    "\n",
    "We can further break this down by product category and individual products, calculate their respective user bounce rates, and take corresponding measures."
   ]
  },
  {
   "cell_type": "markdown",
   "metadata": {},
   "source": [
    "#### User Conversion Analysis\n",
    "Next, we will analyze the user conversion funnel from browsing to final purchase. To begin with, we examine the overall distribution trends of key user actions, including browsing, following, adding to cart, and placing an order.\n",
    "\n",
    "In this dataset, the action_type is defined as follows:\n",
    "\n",
    "1 = Browse\n",
    "\n",
    "2 = Order\n",
    "\n",
    "3 = Follow\n",
    "\n",
    "4 = Comment\n",
    "\n",
    "5 = Add to Cart"
   ]
  },
  {
   "cell_type": "code",
   "execution_count": 25,
   "metadata": {},
   "outputs": [
    {
     "data": {
      "image/png": "[encoded data removed]",
      "text/plain": [
       "<Figure size 1000x800 with 2 Axes>"
      ]
     },
     "metadata": {},
     "output_type": "display_data"
    }
   ],
   "source": [
    "# Data Preparation\n",
    "pv_detail = action_data.groupby(['action_type','hour'])['user_log_acct'].count().reset_index().rename(columns={'user_log_acct':'total_behavior'})\n",
    "# Colour\n",
    "action_colors = {\n",
    "    1: '#A3D9A5',  # Browse\n",
    "    2: '#F4E3D7',  # Order\n",
    "    3: '#A8DADC',  # Follow\n",
    "    4: '#457B9D',  # Comment\n",
    "    5: '#6D6875',  # Add to cart\n",
    "}\n",
    "\n",
    "palette = [action_colors[i] for i in sorted(pv_detail['action_type'].unique())]\n",
    "\n",
    "fig, axes = plt.subplots(2, 1, figsize = (10,8), sharex = True)\n",
    "sns.pointplot(x = 'hour',y = 'total_behavior', hue = 'action_type', data = pv_detail, ax = axes[0], palette=palette)\n",
    "axes[0].set_title('Hourly User Behavior Count (Including PV)')\n",
    "axes[0].set_ylabel('Total Behavior')\n",
    "axes[0].grid()\n",
    "\n",
    "sns.pointplot(x = 'hour',y = 'total_behavior', hue = 'action_type', data = pv_detail[pv_detail.action_type!=1], ax = axes[1], palette=palette[1:])\n",
    "axes[1].set_title('Hourly User Behavior Count (Excluding PV)')\n",
    "axes[1].set_ylabel('Total Behavior')\n",
    "axes[1].set_xlabel('Hour')\n",
    "axes[1].grid()\n",
    "\n",
    "plt.show()"
   ]
  },
  {
   "cell_type": "markdown",
   "metadata": {},
   "source": [
    "The first chart shows the hourly distribution of all user behaviors, including page views (PV). As expected, PVs dominate in volume, with clear peaks in the evening hours (especially around 9 PM to 11 PM). This masks the trends of lower-frequency behaviors like cart additions, orders, follows, and payments.\n",
    "\n",
    "To better visualize those behaviors, the second chart excludes PVs. It reveals that these actions follow similar temporal patterns, with activity typically rising in the late morning and peaking in the evening, aligned with PV spikes. This consistency suggests that user engagement and conversion-related behaviors (carting, ordering) are highly correlated with browsing intensity.\n",
    "\n",
    "Overall, the temporal patterns across behavior types are synchronized, but the magnitude varies drastically — with PVs being several orders higher than other interactions."
   ]
  },
  {
   "cell_type": "markdown",
   "metadata": {},
   "source": [
    "#### Conversion Rate Calculation"
   ]
  },
  {
   "cell_type": "code",
   "execution_count": 26,
   "metadata": {},
   "outputs": [
    {
     "data": {
      "text/plain": [
       "0.0650083761737526"
      ]
     },
     "execution_count": 26,
     "metadata": {},
     "output_type": "execute_result"
    }
   ],
   "source": [
    "click_df['action_order'].mean()"
   ]
  },
  {
   "cell_type": "code",
   "execution_count": 27,
   "metadata": {},
   "outputs": [
    {
     "data": {
      "text/plain": [
       "0.15384461460473306"
      ]
     },
     "execution_count": 27,
     "metadata": {},
     "output_type": "execute_result"
    }
   ],
   "source": [
    "click_df['action_cart'].mean()"
   ]
  },
  {
   "cell_type": "code",
   "execution_count": 28,
   "metadata": {},
   "outputs": [
    {
     "data": {
      "text/plain": [
       "0.014985136328722342"
      ]
     },
     "execution_count": 28,
     "metadata": {},
     "output_type": "execute_result"
    }
   ],
   "source": [
    "click_df['action_follow'].mean()"
   ]
  },
  {
   "cell_type": "code",
   "execution_count": 29,
   "metadata": {},
   "outputs": [
    {
     "data": {
      "text/plain": [
       "0.7437034236958635"
      ]
     },
     "execution_count": 29,
     "metadata": {},
     "output_type": "execute_result"
    }
   ],
   "source": [
    "click_df[click_df['action_order']==1][click_df['action_cart']==1].shape[0] / \\\n",
    "click_df[click_df['action_order']==1].shape[0]"
   ]
  },
  {
   "cell_type": "markdown",
   "metadata": {},
   "source": [
    "Among all product clicks, 6.5% resulted in an order, while 15.4% led to a cart addition. This indicates that more users show purchase intention than those who actually convert.\n",
    "\n",
    "Only 1.5% of clicks lead to a follow action, suggesting it's used sparingly for longer-term consideration.\n",
    "\n",
    "Notably, 74.4% of orders were preceded by cart additions, highlighting the cart as a key conversion step in the user journey."
   ]
  },
  {
   "cell_type": "markdown",
   "metadata": {},
   "source": [
    "#### PUR（Paying User Rate）\n",
    "\n",
    "Calculated based on User Payment Rate = Users with Purchase History / Active Users"
   ]
  },
  {
   "cell_type": "code",
   "execution_count": 30,
   "metadata": {},
   "outputs": [
    {
     "name": "stdout",
     "output_type": "stream",
     "text": [
      "Paying User Rate 39.01%\n"
     ]
    }
   ],
   "source": [
    "# Paying User Rate\n",
    "paying_user_count = click_df[click_df.action_order == 1].user_log_acct.unique().shape[0]\n",
    "uv_count = click_df['user_log_acct'].unique().shape[0]\n",
    "\n",
    "print('Paying User Rate %.2f%%' % ( 100 * paying_user_count / uv_count))"
   ]
  },
  {
   "cell_type": "markdown",
   "metadata": {},
   "source": [
    "The user payment rate reached 39.01%, and the Jingdong user payment rate is still relatively high."
   ]
  },
  {
   "cell_type": "markdown",
   "metadata": {},
   "source": [
    "### User behavior path analysis"
   ]
  },
  {
   "cell_type": "code",
   "execution_count": 31,
   "metadata": {},
   "outputs": [],
   "source": [
    "df = click_df.groupby(['hour']).agg({'action_order':'mean','action_cart':'mean','action_follow':'mean'}).reset_index()"
   ]
  },
  {
   "cell_type": "code",
   "execution_count": 32,
   "metadata": {},
   "outputs": [
    {
     "data": {
      "image/png": "[encoded data removed]",
      "text/plain": [
       "<Figure size 1400x500 with 1 Axes>"
      ]
     },
     "metadata": {},
     "output_type": "display_data"
    }
   ],
   "source": [
    "df.loc[:,['action_order','action_cart','action_follow']].plot(figsize=(14,5)) \n",
    "plt.show()"
   ]
  },
  {
   "cell_type": "markdown",
   "metadata": {},
   "source": [
    "The chart above shows the hourly variation in conversion rates for Click-to-Order, Click-to-Add-to-Cart, and Click-to-Follow. Among these, the trends of \"Click-to-Order\" and \"Click-to-Add-to-Cart\" are generally consistent."
   ]
  },
  {
   "cell_type": "code",
   "execution_count": 33,
   "metadata": {},
   "outputs": [],
   "source": [
    "cart2order = click_df[click_df.action_cart==1].groupby(['hour']).agg({'action_order':'mean'}).reset_index()\n",
    "cart2order.columns = ['hour','cart2order']\n",
    "follow2order = click_df[click_df.action_follow==1].groupby(['hour']).agg({'action_order':'mean'}).reset_index()\n",
    "follow2order.columns = ['hour','follow2order']"
   ]
  },
  {
   "cell_type": "code",
   "execution_count": 34,
   "metadata": {},
   "outputs": [],
   "source": [
    "cart2order = cart2order.merge(follow2order, on='hour', how='left')"
   ]
  },
  {
   "cell_type": "code",
   "execution_count": 35,
   "metadata": {},
   "outputs": [
    {
     "data": {
      "image/png": "[encoded data removed]",
      "text/plain": [
       "<Figure size 1400x500 with 1 Axes>"
      ]
     },
     "metadata": {},
     "output_type": "display_data"
    }
   ],
   "source": [
    "cart2order.loc[:,['cart2order','follow2order']].plot(figsize=(14,5)) \n",
    "plt.show()"
   ]
  },
  {
   "cell_type": "markdown",
   "metadata": {},
   "source": [
    "This chart compares hourly conversion rates from cart and follow behaviors to actual orders.\n",
    "\n",
    "Cart-to-order conversion remains relatively stable throughout the day, suggesting cart actions represent strong purchase intent regardless of time.\n",
    "\n",
    "In contrast, follow-to-order conversion shows pronounced fluctuation — peaking during midday hours (10 AM to 2 PM) with rates over 45%, and dropping significantly in early morning and evening.\n",
    "\n",
    "These trends imply that users who follow products during working hours are more likely to convert, while cart behavior is less time-sensitive and more consistently predictive of orders."
   ]
  },
  {
   "cell_type": "markdown",
   "metadata": {},
   "source": [
    "##### Breakdown\n",
    "Select two categories (34 and 69) to compare and analyze the conversion rates of “view/click-add” and “add-purchase”."
   ]
  },
  {
   "cell_type": "code",
   "execution_count": 36,
   "metadata": {},
   "outputs": [
    {
     "data": {
      "text/plain": [
       "item_third_cate_cd\n",
       "7.0     668197\n",
       "34.0    145540\n",
       "27.0    137016\n",
       "81.0    134851\n",
       "69.0    133378\n",
       "         ...  \n",
       "40.0      1304\n",
       "1.0        800\n",
       "18.0       398\n",
       "5.0        344\n",
       "50.0       319\n",
       "Name: count, Length: 80, dtype: int64"
      ]
     },
     "execution_count": 36,
     "metadata": {},
     "output_type": "execute_result"
    }
   ],
   "source": [
    "click_df['item_third_cate_cd'].value_counts()"
   ]
  },
  {
   "cell_type": "code",
   "execution_count": 37,
   "metadata": {},
   "outputs": [
    {
     "data": {
      "text/html": [
       "<div>\n",
       "<style scoped>\n",
       "    .dataframe tbody tr th:only-of-type {\n",
       "        vertical-align: middle;\n",
       "    }\n",
       "\n",
       "    .dataframe tbody tr th {\n",
       "        vertical-align: top;\n",
       "    }\n",
       "\n",
       "    .dataframe thead th {\n",
       "        text-align: right;\n",
       "    }\n",
       "</style>\n",
       "<table border=\"1\" class=\"dataframe\">\n",
       "  <thead>\n",
       "    <tr style=\"text-align: right;\">\n",
       "      <th></th>\n",
       "      <th>item_third_cate_cd</th>\n",
       "      <th>action_order</th>\n",
       "      <th>action_cart</th>\n",
       "      <th>action_follow</th>\n",
       "    </tr>\n",
       "  </thead>\n",
       "  <tbody>\n",
       "    <tr>\n",
       "      <th>0</th>\n",
       "      <td>34.0</td>\n",
       "      <td>0.065254</td>\n",
       "      <td>0.141075</td>\n",
       "      <td>0.012430</td>\n",
       "    </tr>\n",
       "    <tr>\n",
       "      <th>1</th>\n",
       "      <td>69.0</td>\n",
       "      <td>0.066728</td>\n",
       "      <td>0.129459</td>\n",
       "      <td>0.013151</td>\n",
       "    </tr>\n",
       "  </tbody>\n",
       "</table>\n",
       "</div>"
      ],
      "text/plain": [
       "   item_third_cate_cd  action_order  action_cart  action_follow\n",
       "0                34.0      0.065254     0.141075       0.012430\n",
       "1                69.0      0.066728     0.129459       0.013151"
      ]
     },
     "execution_count": 37,
     "metadata": {},
     "output_type": "execute_result"
    }
   ],
   "source": [
    "click_df[click_df.item_third_cate_cd.isin([34,69])].groupby(['item_third_cate_cd']).agg({'action_order':'mean','action_cart':'mean','action_follow':'mean'}).reset_index()"
   ]
  },
  {
   "cell_type": "code",
   "execution_count": 38,
   "metadata": {},
   "outputs": [
    {
     "data": {
      "text/html": [
       "<div>\n",
       "<style scoped>\n",
       "    .dataframe tbody tr th:only-of-type {\n",
       "        vertical-align: middle;\n",
       "    }\n",
       "\n",
       "    .dataframe tbody tr th {\n",
       "        vertical-align: top;\n",
       "    }\n",
       "\n",
       "    .dataframe thead th {\n",
       "        text-align: right;\n",
       "    }\n",
       "</style>\n",
       "<table border=\"1\" class=\"dataframe\">\n",
       "  <thead>\n",
       "    <tr style=\"text-align: right;\">\n",
       "      <th></th>\n",
       "      <th>item_third_cate_cd</th>\n",
       "      <th>action_order</th>\n",
       "    </tr>\n",
       "  </thead>\n",
       "  <tbody>\n",
       "    <tr>\n",
       "      <th>0</th>\n",
       "      <td>34.0</td>\n",
       "      <td>0.334600</td>\n",
       "    </tr>\n",
       "    <tr>\n",
       "      <th>1</th>\n",
       "      <td>69.0</td>\n",
       "      <td>0.381479</td>\n",
       "    </tr>\n",
       "  </tbody>\n",
       "</table>\n",
       "</div>"
      ],
      "text/plain": [
       "   item_third_cate_cd  action_order\n",
       "0                34.0      0.334600\n",
       "1                69.0      0.381479"
      ]
     },
     "execution_count": 38,
     "metadata": {},
     "output_type": "execute_result"
    }
   ],
   "source": [
    "click_df[(click_df.item_third_cate_cd.isin([34,69]))&(click_df.action_cart==1)].groupby(['item_third_cate_cd']).agg({'action_order':'mean'}).reset_index()"
   ]
  },
  {
   "cell_type": "markdown",
   "metadata": {},
   "source": [
    "During the browsing process, the percentage of users who were interested in purchasing in category 69 and added to the shopping cart was slightly lower than in category 34, but in the conversion of add to purchase, 69 performed better than 34, resulting in a slightly higher final purchase conversion rate than 34."
   ]
  },
  {
   "cell_type": "markdown",
   "metadata": {},
   "source": [
    "### Breaking down user behavior using the AARRR funnel model"
   ]
  },
  {
   "cell_type": "markdown",
   "metadata": {},
   "source": [
    "1、Acquisition\n",
    "\n",
    "Since the first login time of each user is not given in the data, we tentatively treat April 8, 2020 as the first login time of each user.\n",
    "\n",
    "During the study period, there were new users every day, but the new users were decreasing, and there was only a small rebound on the weekend of the launch of the marketing campaigns, so the launch of the marketing campaigns can attract new users, and the promotion channels of the marketing campaigns may be the key to how much the number of users grows.\n"
   ]
  },
  {
   "cell_type": "code",
   "execution_count": 39,
   "metadata": {},
   "outputs": [],
   "source": [
    "df = click_df[click_df.action_order==1].groupby(['date'])['user_log_acct'].unique().reset_index()"
   ]
  },
  {
   "cell_type": "code",
   "execution_count": 40,
   "metadata": {},
   "outputs": [
    {
     "data": {
      "text/html": [
       "<div>\n",
       "<style scoped>\n",
       "    .dataframe tbody tr th:only-of-type {\n",
       "        vertical-align: middle;\n",
       "    }\n",
       "\n",
       "    .dataframe tbody tr th {\n",
       "        vertical-align: top;\n",
       "    }\n",
       "\n",
       "    .dataframe thead th {\n",
       "        text-align: right;\n",
       "    }\n",
       "</style>\n",
       "<table border=\"1\" class=\"dataframe\">\n",
       "  <thead>\n",
       "    <tr style=\"text-align: right;\">\n",
       "      <th></th>\n",
       "      <th>date</th>\n",
       "      <th>user_log_acct</th>\n",
       "    </tr>\n",
       "  </thead>\n",
       "  <tbody>\n",
       "    <tr>\n",
       "      <th>0</th>\n",
       "      <td>2020-04-08</td>\n",
       "      <td>[1465052, 469668, 377317, 1276144, 1096416, 93...</td>\n",
       "    </tr>\n",
       "    <tr>\n",
       "      <th>1</th>\n",
       "      <td>2020-04-09</td>\n",
       "      <td>[1177411, 727932, 327912, 841035, 555131, 6546...</td>\n",
       "    </tr>\n",
       "    <tr>\n",
       "      <th>2</th>\n",
       "      <td>2020-04-10</td>\n",
       "      <td>[209165, 1528227, 541689, 1297142, 282140, 118...</td>\n",
       "    </tr>\n",
       "    <tr>\n",
       "      <th>3</th>\n",
       "      <td>2020-04-11</td>\n",
       "      <td>[1455298, 1103962, 958904, 1265494, 1099402, 1...</td>\n",
       "    </tr>\n",
       "    <tr>\n",
       "      <th>4</th>\n",
       "      <td>2020-04-12</td>\n",
       "      <td>[1223015, 437691, 97130, 1058516, 1052926, 897...</td>\n",
       "    </tr>\n",
       "  </tbody>\n",
       "</table>\n",
       "</div>"
      ],
      "text/plain": [
       "         date                                      user_log_acct\n",
       "0  2020-04-08  [1465052, 469668, 377317, 1276144, 1096416, 93...\n",
       "1  2020-04-09  [1177411, 727932, 327912, 841035, 555131, 6546...\n",
       "2  2020-04-10  [209165, 1528227, 541689, 1297142, 282140, 118...\n",
       "3  2020-04-11  [1455298, 1103962, 958904, 1265494, 1099402, 1...\n",
       "4  2020-04-12  [1223015, 437691, 97130, 1058516, 1052926, 897..."
      ]
     },
     "execution_count": 40,
     "metadata": {},
     "output_type": "execute_result"
    }
   ],
   "source": [
    "df.head()"
   ]
  },
  {
   "cell_type": "code",
   "execution_count": 41,
   "metadata": {},
   "outputs": [
    {
     "name": "stderr",
     "output_type": "stream",
     "text": [
      "100%|██████████| 8/8 [02:29<00:00, 18.71s/it]\n"
     ]
    }
   ],
   "source": [
    "# # Select April 8, 2020 as the first day of the app's launch and define new users as those who made their first purchase\n",
    "dic = {}\n",
    "hist_users = []\n",
    "for items in tqdm(df.values):\n",
    "    nums = 0\n",
    "    for i in items[1]:\n",
    "        if i not in hist_users:\n",
    "            nums += 1\n",
    "            hist_users.append(i)\n",
    "    dic[items[0]] = nums"
   ]
  },
  {
   "cell_type": "code",
   "execution_count": 42,
   "metadata": {},
   "outputs": [
    {
     "data": {
      "image/png": "[encoded data removed]",
      "text/plain": [
       "<Figure size 1400x500 with 1 Axes>"
      ]
     },
     "metadata": {},
     "output_type": "display_data"
    }
   ],
   "source": [
    "pd.DataFrame({'Daily User Increment':dic}).plot(figsize=(14,5))\n",
    "plt.title('Daily New Users (First-Time Appearance)', fontsize=14)\n",
    "plt.xlabel('Date')\n",
    "plt.ylabel('New Users Count')\n",
    "plt.grid(True, linestyle='--', alpha=0.3)\n",
    "plt.show()"
   ]
  },
  {
   "cell_type": "markdown",
   "metadata": {},
   "source": [
    "This chart shows the number of new users appearing for the first time on each day.\n",
    "\n"
   ]
  },
  {
   "cell_type": "markdown",
   "metadata": {},
   "source": [
    "2、Acitvation\n",
    "\n",
    "Following and adding to cart in a shopping session are both behaviors that determine the intention to shop, and are not sequential, so they are combined into one step in the shopping session."
   ]
  },
  {
   "cell_type": "code",
   "execution_count": 43,
   "metadata": {},
   "outputs": [
    {
     "data": {
      "text/plain": [
       "0.1620772068374292"
      ]
     },
     "execution_count": 43,
     "metadata": {},
     "output_type": "execute_result"
    }
   ],
   "source": [
    "click_df[(click_df.action_follow==1)|(click_df.action_cart==1)].shape[0] / click_df.shape[0]"
   ]
  },
  {
   "cell_type": "markdown",
   "metadata": {},
   "source": [
    "Only 16% of users convert from browsing (clicking) to showing purchase intent. While some users do proceed directly to purchase, this still indicates that the majority primarily engage in browsing, with relatively low conversion to purchase. This stage represents a key bottleneck in the conversion funnel that requires improvement.\n",
    "\n",
    "Recommendations to enhance conversion at this stage include:\n",
    "\n",
    "Optimize search relevance and recommendation algorithms: Proactively recommend products based on user preferences, improve the accuracy and aggregation of search results, and refine the prioritization of product listings.\n",
    "\n",
    "Enable product comparison features: Help users compare similar items side by side, reducing the need to return to the search results repeatedly and allowing for quicker decision-making.\n",
    "\n",
    "Highlight key information on product detail pages: Focus on displaying the most relevant content users care about, and simplify the layout to reduce the effort required to find information.\n",
    "\n",
    "Improve accessibility of Add-to-Cart and Follow buttons: Ensure these functions are easy to access even while scrolling, to encourage more frequent usage and interaction."
   ]
  },
  {
   "cell_type": "markdown",
   "metadata": {},
   "source": [
    "3、Retention\n",
    "\n",
    "The retention analysis also treats April 8, 2020 as the first login time for each user"
   ]
  },
  {
   "cell_type": "code",
   "execution_count": 44,
   "metadata": {},
   "outputs": [],
   "source": [
    "df = click_df[click_df.action_order==1].groupby(['date'])['user_log_acct'].unique().reset_index()"
   ]
  },
  {
   "cell_type": "code",
   "execution_count": 45,
   "metadata": {},
   "outputs": [
    {
     "name": "stderr",
     "output_type": "stream",
     "text": [
      "100%|██████████| 7/7 [00:35<00:00,  5.07s/it]\n"
     ]
    }
   ],
   "source": [
    "dic = {}\n",
    "hist_users = list(set(df.values[0][1]))\n",
    "for items in tqdm(df.values[1:]):\n",
    "    nums = 0\n",
    "    for i in items[1]:\n",
    "        if i in hist_users:\n",
    "            nums += 1\n",
    "    dic[items[0]] = nums / len(hist_users) * 100"
   ]
  },
  {
   "cell_type": "code",
   "execution_count": 46,
   "metadata": {},
   "outputs": [
    {
     "data": {
      "image/png": "[encoded data removed]",
      "text/plain": [
       "<Figure size 1400x500 with 1 Axes>"
      ]
     },
     "metadata": {},
     "output_type": "display_data"
    }
   ],
   "source": [
    "pd.DataFrame({'留存率':dic}).plot(figsize=(14,5))\n",
    "plt.title('Daily Retention Rate of Existing Users (Order-Based)', fontsize=14)\n",
    "plt.xlabel('Date')\n",
    "plt.ylabel('Retention Rate (%)')\n",
    "plt.grid(True, linestyle='--', alpha=0.5)\n",
    "plt.show()"
   ]
  },
  {
   "cell_type": "markdown",
   "metadata": {},
   "source": [
    "Jingdong platform retention is relatively low, here may be the reason for sampling, can be combined with product design and new user conversion path to analyze the reasons for the loss of users, through continuous modification and adjustment to reduce user turnover, improve the next day retention rate;"
   ]
  },
  {
   "cell_type": "markdown",
   "metadata": {},
   "source": [
    "4、Revenue"
   ]
  },
  {
   "cell_type": "code",
   "execution_count": 47,
   "metadata": {},
   "outputs": [
    {
     "data": {
      "text/plain": [
       "0.39013141484934"
      ]
     },
     "execution_count": 47,
     "metadata": {},
     "output_type": "execute_result"
    }
   ],
   "source": [
    "click_df[click_df['action_order']==1]['user_log_acct'].nunique() / click_df['user_log_acct'].nunique()"
   ]
  },
  {
   "cell_type": "markdown",
   "metadata": {},
   "source": [
    "39% of users using the Jingdong platform are paid users, a fairly high paid conversion rate.\n",
    "\n",
    "The focus of business should be transformed into cultivating user loyalty, encouraging users to consume more frequently.\n",
    "\n",
    "High repurchase number of users is small, merchants can look for reasons from the quality of goods, service quality, logistics experience three aspects, locate where the problem point, seek high repurchase rate sudden."
   ]
  },
  {
   "cell_type": "markdown",
   "metadata": {},
   "source": [
    "5、Reference\n",
    "\n",
    "Jingdong itself has a large user base, high visibility, I think the users in the first and second-tier cities have basically reached saturation, the spread of work needs to be directed at the third and fourth-tier cities channel sinking, in these areas for the user price sensitivity of the characteristics of high to carry out similar Jindoduo's group forwarding and discount promotions, to expand the utilization rate of this part of the user."
   ]
  },
  {
   "cell_type": "markdown",
   "metadata": {},
   "source": [
    "### Analysis of user consumption habits and ways to deal with them"
   ]
  },
  {
   "cell_type": "markdown",
   "metadata": {},
   "source": [
    "#### User Consumption Habits Analysis\n",
    "- Consumption frequency dimension"
   ]
  },
  {
   "cell_type": "code",
   "execution_count": 48,
   "metadata": {},
   "outputs": [
    {
     "data": {
      "text/plain": [
       "user_log_acct\n",
       "1187177    237\n",
       "1275396    220\n",
       "659687     211\n",
       "318840     141\n",
       "1400097    138\n",
       "653834     123\n",
       "895484     122\n",
       "711516     101\n",
       "1334223    101\n",
       "346637     100\n",
       "Name: count, dtype: int64"
      ]
     },
     "execution_count": 48,
     "metadata": {},
     "output_type": "execute_result"
    }
   ],
   "source": [
    "consumption = action_data[action_data.action_type==2]['user_log_acct'].value_counts()\n",
    "consumption.head(10)"
   ]
  },
  {
   "cell_type": "code",
   "execution_count": 49,
   "metadata": {},
   "outputs": [
    {
     "data": {
      "image/png": "[encoded data removed]",
      "text/plain": [
       "<Figure size 500x700 with 1 Axes>"
      ]
     },
     "metadata": {},
     "output_type": "display_data"
    }
   ],
   "source": [
    "\n",
    "plt.figure(figsize=(5,7))\n",
    "consumption.plot.box(grid=True)\n",
    "plt.title(\"Order Frequency Distribution per User\")\n",
    "plt.ylabel(\"Number of Orders per User\")\n",
    "plt.xlabel(\"All Users\", fontsize=12) \n",
    "plt.show()"
   ]
  },
  {
   "cell_type": "markdown",
   "metadata": {},
   "source": [
    "Most users are light buyers\n",
    "The majority of users place very few orders — this is evident from the lower quartile and median being close to the bottom of the boxplot.\n",
    "\n",
    "Highly skewed distribution\n",
    "There is a long tail of users with extremely high order frequencies (outliers far above the upper whisker), indicating a small group of super buyers or loyal customers who contribute disproportionately to total orders.\n",
    "\n",
    "Presence of outliers\n",
    "The presence of many outlier dots suggests diverse user behavior. Some users may place over 100 or even 200 orders in the observed period, which could be either high-value customers or abnormal usage (e.g., bots or merchants).\n",
    "\n",
    "User segmentation opportunity\n",
    "The data supports a segmentation strategy:\n",
    "\n",
    "Target most users with re-engagement campaigns (since they rarely purchase).\n",
    "\n",
    "Create loyalty or VIP programs for heavy buyers.\n",
    "\n",
    "Retention/Revenue Implication\n",
    "Losing a small number of high-frequency users could significantly impact sales.\n",
    "On the flip side, even a modest conversion of low-frequency users could boost total revenue."
   ]
  },
  {
   "cell_type": "code",
   "execution_count": 50,
   "metadata": {},
   "outputs": [
    {
     "data": {
      "text/plain": [
       "1.3635105709119186"
      ]
     },
     "execution_count": 50,
     "metadata": {},
     "output_type": "execute_result"
    }
   ],
   "source": [
    "consumption.mean()"
   ]
  },
  {
   "cell_type": "markdown",
   "metadata": {},
   "source": [
    "The majority of users are in the 1 time the number of consumption, there are individual users consumption behavior more often."
   ]
  },
  {
   "cell_type": "markdown",
   "metadata": {},
   "source": [
    "#### Profitability of the platform（ARPPU）\n",
    "- ARPPU = Total Revenue / Number of Spending Users\n",
    "- Total revenue is replaced by the number of consumptions"
   ]
  },
  {
   "cell_type": "code",
   "execution_count": 51,
   "metadata": {},
   "outputs": [
    {
     "data": {
      "text/html": [
       "<div>\n",
       "<style scoped>\n",
       "    .dataframe tbody tr th:only-of-type {\n",
       "        vertical-align: middle;\n",
       "    }\n",
       "\n",
       "    .dataframe tbody tr th {\n",
       "        vertical-align: top;\n",
       "    }\n",
       "\n",
       "    .dataframe thead th {\n",
       "        text-align: right;\n",
       "    }\n",
       "</style>\n",
       "<table border=\"1\" class=\"dataframe\">\n",
       "  <thead>\n",
       "    <tr style=\"text-align: right;\">\n",
       "      <th></th>\n",
       "      <th>date</th>\n",
       "      <th>user_log_acct</th>\n",
       "      <th>number of consumptions</th>\n",
       "    </tr>\n",
       "  </thead>\n",
       "  <tbody>\n",
       "    <tr>\n",
       "      <th>0</th>\n",
       "      <td>2020-02-01</td>\n",
       "      <td>28</td>\n",
       "      <td>1</td>\n",
       "    </tr>\n",
       "    <tr>\n",
       "      <th>1</th>\n",
       "      <td>2020-02-01</td>\n",
       "      <td>76</td>\n",
       "      <td>1</td>\n",
       "    </tr>\n",
       "    <tr>\n",
       "      <th>2</th>\n",
       "      <td>2020-02-01</td>\n",
       "      <td>80</td>\n",
       "      <td>1</td>\n",
       "    </tr>\n",
       "    <tr>\n",
       "      <th>3</th>\n",
       "      <td>2020-02-01</td>\n",
       "      <td>130</td>\n",
       "      <td>4</td>\n",
       "    </tr>\n",
       "    <tr>\n",
       "      <th>4</th>\n",
       "      <td>2020-02-01</td>\n",
       "      <td>156</td>\n",
       "      <td>1</td>\n",
       "    </tr>\n",
       "  </tbody>\n",
       "</table>\n",
       "</div>"
      ],
      "text/plain": [
       "         date  user_log_acct  number of consumptions\n",
       "0  2020-02-01             28                       1\n",
       "1  2020-02-01             76                       1\n",
       "2  2020-02-01             80                       1\n",
       "3  2020-02-01            130                       4\n",
       "4  2020-02-01            156                       1"
      ]
     },
     "execution_count": 51,
     "metadata": {},
     "output_type": "execute_result"
    }
   ],
   "source": [
    "ARPPU_day = action_data[action_data.action_type==2].groupby(['date','user_log_acct'])['action_type'].count().reset_index()\n",
    "ARPPU_day.columns = ['date','user_log_acct','number of consumptions']\n",
    "ARPPU_day.head()"
   ]
  },
  {
   "cell_type": "code",
   "execution_count": 52,
   "metadata": {},
   "outputs": [
    {
     "data": {
      "image/png": "[encoded data removed]",
      "text/plain": [
       "<Figure size 1600x1000 with 1 Axes>"
      ]
     },
     "metadata": {},
     "output_type": "display_data"
    }
   ],
   "source": [
    "ARPPU_day = ARPPU_day.groupby('date').sum()['number of consumptions']/ARPPU_day.groupby(['date']).count()['number of consumptions']\n",
    "plt.figure(figsize=(16,10))\n",
    "sns.lineplot(data=ARPPU_day, color=\"#2E8B57\", linewidth=2.5)\n",
    "plt.title(\"Daily ARPPU (Average Revenue Per Paying User)\", fontsize=18, fontweight='bold')\n",
    "plt.xlabel(\"Date\", fontsize=14)\n",
    "plt.ylabel(\"ARPPU\", fontsize=14)\n",
    "plt.grid(True, linestyle='--', alpha=0.5)\n",
    "plt.show()"
   ]
  },
  {
   "cell_type": "markdown",
   "metadata": {},
   "source": [
    "Overall Stability with Minor Fluctuations: ARPPU remains relatively stable between 1.1 and 1.2 across most dates, indicating consistent spending behavior among paying users.\n",
    "Notable Spike at the End of March:\n",
    "A sharp increase around the end of March suggests an anomaly, possibly due to: A sudden drop in the number of paying users (smaller denominator), or a few high-value transactions skewing the average upward.\n",
    "\n",
    "This warrants further investigation—check for promotions, system glitches, or unusual user activity.\n",
    "\n",
    "Slight Decline Mid-February to Early March:\n",
    "There is a gradual decline in ARPPU during this period, potentially caused by:\n",
    "A shift in user behavior post-holiday,\n",
    "An increase in lower-spending users, or\n",
    "Reduced conversion effectiveness."
   ]
  },
  {
   "cell_type": "markdown",
   "metadata": {},
   "source": [
    "#### Repurchase rate\n",
    "Repurchase Rate = Repeat Users / Total Users with Consumption Behavior"
   ]
  },
  {
   "cell_type": "code",
   "execution_count": 53,
   "metadata": {},
   "outputs": [
    {
     "name": "stdout",
     "output_type": "stream",
     "text": [
      "0.13\n"
     ]
    }
   ],
   "source": [
    "RE_PAY = action_data[action_data.action_type==2].groupby('user_log_acct')['date'].apply(lambda x:len(x.unique()))\n",
    "print(round(RE_PAY[RE_PAY>=2].count()/RE_PAY.count(),2))"
   ]
  },
  {
   "cell_type": "markdown",
   "metadata": {},
   "source": [
    "Only 13% of users who made a purchase returned to make another one on a different day.\n",
    "This indicates a low customer loyalty or retention rate. It may imply:\n",
    "\n",
    "Lack of incentives for repeat purchase\n",
    "\n",
    "Weak brand or product stickiness\n",
    "\n",
    "Users may be one-time opportunistic buyers"
   ]
  },
  {
   "cell_type": "markdown",
   "metadata": {},
   "source": [
    "#### Average user rating"
   ]
  },
  {
   "cell_type": "code",
   "execution_count": 54,
   "metadata": {},
   "outputs": [
    {
     "data": {
      "text/plain": [
       "user_level\n",
       "1.0    488955\n",
       "6.0    445733\n",
       "5.0    349352\n",
       "7.0    308464\n",
       "3.0      9603\n",
       "4.0      6588\n",
       "2.0        12\n",
       "Name: count, dtype: int64"
      ]
     },
     "execution_count": 54,
     "metadata": {},
     "output_type": "execute_result"
    }
   ],
   "source": [
    "action_data.groupby(['user_log_acct'])['user_level'].mean().reset_index()['user_level'].value_counts()"
   ]
  },
  {
   "cell_type": "markdown",
   "metadata": {},
   "source": [
    "The user level distribution is U-shaped, with a large number of users concentrated at both the lowest (Level 1) and highest tiers (Level 6–7), while intermediate levels (2–5) have significantly fewer users."
   ]
  },
  {
   "cell_type": "markdown",
   "metadata": {},
   "source": [
    "#### Product Related Analysis\n",
    "- Merchandise Sales Analysis\n",
    "- Commodity Behavior Analysis"
   ]
  },
  {
   "cell_type": "code",
   "execution_count": 55,
   "metadata": {},
   "outputs": [],
   "source": [
    "item_cat_bh_counts = pd.pivot_table(action_data \\\n",
    "                               .groupby(['item_third_cate_cd','action_type'])['user_log_acct'] \\\n",
    "                               .count().reset_index(name='count'),\n",
    "                               values='count',\n",
    "                               index='item_third_cate_cd',\n",
    "                               columns='action_type')\n",
    "item_cat_bh_counts.fillna(0,inplace=True)"
   ]
  },
  {
   "cell_type": "code",
   "execution_count": 56,
   "metadata": {},
   "outputs": [
    {
     "data": {
      "text/html": [
       "<div>\n",
       "<style scoped>\n",
       "    .dataframe tbody tr th:only-of-type {\n",
       "        vertical-align: middle;\n",
       "    }\n",
       "\n",
       "    .dataframe tbody tr th {\n",
       "        vertical-align: top;\n",
       "    }\n",
       "\n",
       "    .dataframe thead th {\n",
       "        text-align: right;\n",
       "    }\n",
       "</style>\n",
       "<table border=\"1\" class=\"dataframe\">\n",
       "  <thead>\n",
       "    <tr style=\"text-align: right;\">\n",
       "      <th>action_type</th>\n",
       "      <th>1</th>\n",
       "      <th>2</th>\n",
       "      <th>3</th>\n",
       "      <th>4</th>\n",
       "      <th>5</th>\n",
       "    </tr>\n",
       "    <tr>\n",
       "      <th>item_third_cate_cd</th>\n",
       "      <th></th>\n",
       "      <th></th>\n",
       "      <th></th>\n",
       "      <th></th>\n",
       "      <th></th>\n",
       "    </tr>\n",
       "  </thead>\n",
       "  <tbody>\n",
       "    <tr>\n",
       "      <th>1.0</th>\n",
       "      <td>8883.0</td>\n",
       "      <td>511.0</td>\n",
       "      <td>63.0</td>\n",
       "      <td>1681.0</td>\n",
       "      <td>105.0</td>\n",
       "    </tr>\n",
       "    <tr>\n",
       "      <th>2.0</th>\n",
       "      <td>78325.0</td>\n",
       "      <td>17582.0</td>\n",
       "      <td>2170.0</td>\n",
       "      <td>4514.0</td>\n",
       "      <td>2001.0</td>\n",
       "    </tr>\n",
       "    <tr>\n",
       "      <th>3.0</th>\n",
       "      <td>280108.0</td>\n",
       "      <td>24800.0</td>\n",
       "      <td>3623.0</td>\n",
       "      <td>6579.0</td>\n",
       "      <td>8794.0</td>\n",
       "    </tr>\n",
       "    <tr>\n",
       "      <th>4.0</th>\n",
       "      <td>14256.0</td>\n",
       "      <td>2491.0</td>\n",
       "      <td>436.0</td>\n",
       "      <td>886.0</td>\n",
       "      <td>614.0</td>\n",
       "    </tr>\n",
       "    <tr>\n",
       "      <th>5.0</th>\n",
       "      <td>3068.0</td>\n",
       "      <td>342.0</td>\n",
       "      <td>105.0</td>\n",
       "      <td>76.0</td>\n",
       "      <td>81.0</td>\n",
       "    </tr>\n",
       "    <tr>\n",
       "      <th>...</th>\n",
       "      <td>...</td>\n",
       "      <td>...</td>\n",
       "      <td>...</td>\n",
       "      <td>...</td>\n",
       "      <td>...</td>\n",
       "    </tr>\n",
       "    <tr>\n",
       "      <th>77.0</th>\n",
       "      <td>323975.0</td>\n",
       "      <td>27354.0</td>\n",
       "      <td>6187.0</td>\n",
       "      <td>10282.0</td>\n",
       "      <td>4855.0</td>\n",
       "    </tr>\n",
       "    <tr>\n",
       "      <th>78.0</th>\n",
       "      <td>76477.0</td>\n",
       "      <td>2778.0</td>\n",
       "      <td>1157.0</td>\n",
       "      <td>1835.0</td>\n",
       "      <td>911.0</td>\n",
       "    </tr>\n",
       "    <tr>\n",
       "      <th>79.0</th>\n",
       "      <td>165641.0</td>\n",
       "      <td>13460.0</td>\n",
       "      <td>2130.0</td>\n",
       "      <td>3706.0</td>\n",
       "      <td>4808.0</td>\n",
       "    </tr>\n",
       "    <tr>\n",
       "      <th>80.0</th>\n",
       "      <td>40909.0</td>\n",
       "      <td>2391.0</td>\n",
       "      <td>522.0</td>\n",
       "      <td>877.0</td>\n",
       "      <td>429.0</td>\n",
       "    </tr>\n",
       "    <tr>\n",
       "      <th>81.0</th>\n",
       "      <td>1456399.0</td>\n",
       "      <td>98514.0</td>\n",
       "      <td>21237.0</td>\n",
       "      <td>40154.0</td>\n",
       "      <td>22991.0</td>\n",
       "    </tr>\n",
       "  </tbody>\n",
       "</table>\n",
       "<p>81 rows × 5 columns</p>\n",
       "</div>"
      ],
      "text/plain": [
       "action_type                 1        2        3        4        5\n",
       "item_third_cate_cd                                               \n",
       "1.0                    8883.0    511.0     63.0   1681.0    105.0\n",
       "2.0                   78325.0  17582.0   2170.0   4514.0   2001.0\n",
       "3.0                  280108.0  24800.0   3623.0   6579.0   8794.0\n",
       "4.0                   14256.0   2491.0    436.0    886.0    614.0\n",
       "5.0                    3068.0    342.0    105.0     76.0     81.0\n",
       "...                       ...      ...      ...      ...      ...\n",
       "77.0                 323975.0  27354.0   6187.0  10282.0   4855.0\n",
       "78.0                  76477.0   2778.0   1157.0   1835.0    911.0\n",
       "79.0                 165641.0  13460.0   2130.0   3706.0   4808.0\n",
       "80.0                  40909.0   2391.0    522.0    877.0    429.0\n",
       "81.0                1456399.0  98514.0  21237.0  40154.0  22991.0\n",
       "\n",
       "[81 rows x 5 columns]"
      ]
     },
     "execution_count": 56,
     "metadata": {},
     "output_type": "execute_result"
    }
   ],
   "source": [
    "item_cat_bh_counts"
   ]
  },
  {
   "cell_type": "code",
   "execution_count": 57,
   "metadata": {},
   "outputs": [],
   "source": [
    "buycounts_cat = item_cat_bh_counts[2].sort_values(ascending=False)\n",
    "buycounts_cat_df= buycounts_cat.reset_index(name='Purchases')\n",
    "buycounts_cat_df['cumsum_purchases'] = buycounts_cat_df['Purchases'].cumsum(axis=0)\n",
    "buycounts_cat_df['cumsum_purchases_pct'] = buycounts_cat_df.cumsum_purchases/buycounts_cat_df.Purchases.sum()"
   ]
  },
  {
   "cell_type": "code",
   "execution_count": 58,
   "metadata": {},
   "outputs": [],
   "source": [
    "cat_counts_pct = np.around(np.linspace(0,len(buycounts_cat.index),num=10)/len(buycounts_cat.index),2)"
   ]
  },
  {
   "cell_type": "code",
   "execution_count": 59,
   "metadata": {},
   "outputs": [
    {
     "data": {
      "image/png": "[encoded data removed]",
      "text/plain": [
       "<Figure size 1400x700 with 1 Axes>"
      ]
     },
     "metadata": {},
     "output_type": "display_data"
    }
   ],
   "source": [
    "# Step 1: Calculate the first number of categories to reach 80% of cumulative purchases\n",
    "threshold_idx = buycounts_cat_df[buycounts_cat_df['cumsum_purchases_pct'] >= 0.8].index[0]\n",
    "category_pct = round(threshold_idx / len(buycounts_cat_df), 2)\n",
    "\n",
    "# Step 2: Explicitly add a “category share” column as a horizontal axis\n",
    "buycounts_cat_df['category_pct'] = buycounts_cat_df.index / len(buycounts_cat_df)\n",
    "\n",
    "fig, ax = plt.subplots(figsize=(14, 7))\n",
    "ax.plot('category_pct', 'cumsum_purchases_pct', data=buycounts_cat_df)\n",
    "ax.set_xticks(np.linspace(0, 1.0, num=10))\n",
    "ax.set_xticklabels([f'{int(x*100)}%' for x in np.linspace(0, 1.0, num=10)])\n",
    "ax.set_yticks(np.linspace(0, 1.0, num=6))\n",
    "ax.set_yticklabels([f'{int(y * 100)}%' for y in np.linspace(0, 1.0, num=6)])\n",
    "ax.set_xlabel('Percent of Category Counts', size=12)\n",
    "ax.set_ylabel('Purchases', size=12)\n",
    "ax.set_title('Category vs Purchases', size=14)\n",
    "ax.hlines(0.8, 0, 1.0, color='r', ls='--')\n",
    "ax.vlines(category_pct, 0, 1.0, color='r', ls='--')\n",
    "ax.text(category_pct + 0.02, 0.75,\n",
    "        f'Top {int(category_pct * 100)}% categories → 80% purchases',\n",
    "        color='red', fontsize=12)\n",
    "\n",
    "plt.show()"
   ]
  },
  {
   "cell_type": "markdown",
   "metadata": {},
   "source": [
    "The chart reveals a clear head-category dominance in user purchasing behavior on the platform. Specifically:\n",
    "\n",
    "The top 31% of product categories account for approximately 80% of total purchases, indicating that the majority of conversions are driven by a relatively small subset of popular categories.\n",
    "\n",
    "In contrast, the remaining ~70% of categories (the \"long tail\") contribute only 20% of purchases, suggesting lower conversion efficiency despite potential visibility.\n",
    "\n",
    "This reflects a classic Pareto pattern (80/20 rule), which carries several strategic implications:\n",
    "\n",
    "The platform should prioritize investment in top-performing categories, such as promoting them in featured sections, improving their search ranking, and ensuring stock availability to maximize conversion.\n",
    "\n",
    "It may be valuable to evaluate and streamline underperforming long-tail categories, reducing redundancy and focusing on those with niche potential or strategic relevance.\n",
    "\n",
    "If diversification of user purchasing behavior is a goal, recommendation strategies, cross-category bundling, or themed promotions can be leveraged to boost mid- and long-tail engagement.\n",
    "\n"
   ]
  },
  {
   "cell_type": "code",
   "execution_count": 60,
   "metadata": {},
   "outputs": [],
   "source": [
    "# Which types of goods are purchased more\n",
    "top10_buycounts_cat = buycounts_cat_df[['item_third_cate_cd','Purchases']].head(10)"
   ]
  },
  {
   "cell_type": "code",
   "execution_count": 61,
   "metadata": {},
   "outputs": [
    {
     "data": {
      "application/vnd.plotly.v1+json": {
       "config": {
        "plotlyServerURL": "https://plot.ly"
       },
       "data": [
        {
         "hoverinfo": "label",
         "labels": [
          "Category ID: 7, Purchase Count: 272,555",
          "Category ID: 75, Purchase Count: 158,794",
          "Category ID: 24, Purchase Count: 148,068",
          "Category ID: 27, Purchase Count: 135,756",
          "Category ID: 34, Purchase Count: 127,220",
          "Category ID: 81, Purchase Count: 98,514",
          "Category ID: 69, Purchase Count: 75,627",
          "Category ID: 70, Purchase Count: 55,614",
          "Category ID: 20, Purchase Count: 53,361",
          "Category ID: 51, Purchase Count: 52,276"
         ],
         "marker": {
          "colors": [
           "#FFD000",
           "#FF6670",
           "#678F8D",
           "#77A88D",
           "#91BDA4",
           "#A3C6B4",
           "#BED7C6",
           "#D4E4D9",
           "#E6F0EB",
           "#F2F7F4"
          ],
          "line": {
           "color": "white",
           "width": 1
          }
         },
         "textfont": {
          "size": 20
         },
         "textinfo": "value",
         "type": "pie",
         "values": [
          272555,
          158794,
          148068,
          135756,
          127220,
          98514,
          75627,
          55614,
          53361,
          52276
         ]
        }
       ],
       "layout": {
        "template": {
         "data": {
          "bar": [
           {
            "error_x": {
             "color": "#2a3f5f"
            },
            "error_y": {
             "color": "#2a3f5f"
            },
            "marker": {
             "line": {
              "color": "#E5ECF6",
              "width": 0.5
             },
             "pattern": {
              "fillmode": "overlay",
              "size": 10,
              "solidity": 0.2
             }
            },
            "type": "bar"
           }
          ],
          "barpolar": [
           {
            "marker": {
             "line": {
              "color": "#E5ECF6",
              "width": 0.5
             },
             "pattern": {
              "fillmode": "overlay",
              "size": 10,
              "solidity": 0.2
             }
            },
            "type": "barpolar"
           }
          ],
          "carpet": [
           {
            "aaxis": {
             "endlinecolor": "#2a3f5f",
             "gridcolor": "white",
             "linecolor": "white",
             "minorgridcolor": "white",
             "startlinecolor": "#2a3f5f"
            },
            "baxis": {
             "endlinecolor": "#2a3f5f",
             "gridcolor": "white",
             "linecolor": "white",
             "minorgridcolor": "white",
             "startlinecolor": "#2a3f5f"
            },
            "type": "carpet"
           }
          ],
          "choropleth": [
           {
            "colorbar": {
             "outlinewidth": 0,
             "ticks": ""
            },
            "type": "choropleth"
           }
          ],
          "contour": [
           {
            "colorbar": {
             "outlinewidth": 0,
             "ticks": ""
            },
            "colorscale": [
             [
              0,
              "#0d0887"
             ],
             [
              0.1111111111111111,
              "#46039f"
             ],
             [
              0.2222222222222222,
              "#7201a8"
             ],
             [
              0.3333333333333333,
              "#9c179e"
             ],
             [
              0.4444444444444444,
              "#bd3786"
             ],
             [
              0.5555555555555556,
              "#d8576b"
             ],
             [
              0.6666666666666666,
              "#ed7953"
             ],
             [
              0.7777777777777778,
              "#fb9f3a"
             ],
             [
              0.8888888888888888,
              "#fdca26"
             ],
             [
              1,
              "#f0f921"
             ]
            ],
            "type": "contour"
           }
          ],
          "contourcarpet": [
           {
            "colorbar": {
             "outlinewidth": 0,
             "ticks": ""
            },
            "type": "contourcarpet"
           }
          ],
          "heatmap": [
           {
            "colorbar": {
             "outlinewidth": 0,
             "ticks": ""
            },
            "colorscale": [
             [
              0,
              "#0d0887"
             ],
             [
              0.1111111111111111,
              "#46039f"
             ],
             [
              0.2222222222222222,
              "#7201a8"
             ],
             [
              0.3333333333333333,
              "#9c179e"
             ],
             [
              0.4444444444444444,
              "#bd3786"
             ],
             [
              0.5555555555555556,
              "#d8576b"
             ],
             [
              0.6666666666666666,
              "#ed7953"
             ],
             [
              0.7777777777777778,
              "#fb9f3a"
             ],
             [
              0.8888888888888888,
              "#fdca26"
             ],
             [
              1,
              "#f0f921"
             ]
            ],
            "type": "heatmap"
           }
          ],
          "heatmapgl": [
           {
            "colorbar": {
             "outlinewidth": 0,
             "ticks": ""
            },
            "colorscale": [
             [
              0,
              "#0d0887"
             ],
             [
              0.1111111111111111,
              "#46039f"
             ],
             [
              0.2222222222222222,
              "#7201a8"
             ],
             [
              0.3333333333333333,
              "#9c179e"
             ],
             [
              0.4444444444444444,
              "#bd3786"
             ],
             [
              0.5555555555555556,
              "#d8576b"
             ],
             [
              0.6666666666666666,
              "#ed7953"
             ],
             [
              0.7777777777777778,
              "#fb9f3a"
             ],
             [
              0.8888888888888888,
              "#fdca26"
             ],
             [
              1,
              "#f0f921"
             ]
            ],
            "type": "heatmapgl"
           }
          ],
          "histogram": [
           {
            "marker": {
             "pattern": {
              "fillmode": "overlay",
              "size": 10,
              "solidity": 0.2
             }
            },
            "type": "histogram"
           }
          ],
          "histogram2d": [
           {
            "colorbar": {
             "outlinewidth": 0,
             "ticks": ""
            },
            "colorscale": [
             [
              0,
              "#0d0887"
             ],
             [
              0.1111111111111111,
              "#46039f"
             ],
             [
              0.2222222222222222,
              "#7201a8"
             ],
             [
              0.3333333333333333,
              "#9c179e"
             ],
             [
              0.4444444444444444,
              "#bd3786"
             ],
             [
              0.5555555555555556,
              "#d8576b"
             ],
             [
              0.6666666666666666,
              "#ed7953"
             ],
             [
              0.7777777777777778,
              "#fb9f3a"
             ],
             [
              0.8888888888888888,
              "#fdca26"
             ],
             [
              1,
              "#f0f921"
             ]
            ],
            "type": "histogram2d"
           }
          ],
          "histogram2dcontour": [
           {
            "colorbar": {
             "outlinewidth": 0,
             "ticks": ""
            },
            "colorscale": [
             [
              0,
              "#0d0887"
             ],
             [
              0.1111111111111111,
              "#46039f"
             ],
             [
              0.2222222222222222,
              "#7201a8"
             ],
             [
              0.3333333333333333,
              "#9c179e"
             ],
             [
              0.4444444444444444,
              "#bd3786"
             ],
             [
              0.5555555555555556,
              "#d8576b"
             ],
             [
              0.6666666666666666,
              "#ed7953"
             ],
             [
              0.7777777777777778,
              "#fb9f3a"
             ],
             [
              0.8888888888888888,
              "#fdca26"
             ],
             [
              1,
              "#f0f921"
             ]
            ],
            "type": "histogram2dcontour"
           }
          ],
          "mesh3d": [
           {
            "colorbar": {
             "outlinewidth": 0,
             "ticks": ""
            },
            "type": "mesh3d"
           }
          ],
          "parcoords": [
           {
            "line": {
             "colorbar": {
              "outlinewidth": 0,
              "ticks": ""
             }
            },
            "type": "parcoords"
           }
          ],
          "pie": [
           {
            "automargin": true,
            "type": "pie"
           }
          ],
          "scatter": [
           {
            "fillpattern": {
             "fillmode": "overlay",
             "size": 10,
             "solidity": 0.2
            },
            "type": "scatter"
           }
          ],
          "scatter3d": [
           {
            "line": {
             "colorbar": {
              "outlinewidth": 0,
              "ticks": ""
             }
            },
            "marker": {
             "colorbar": {
              "outlinewidth": 0,
              "ticks": ""
             }
            },
            "type": "scatter3d"
           }
          ],
          "scattercarpet": [
           {
            "marker": {
             "colorbar": {
              "outlinewidth": 0,
              "ticks": ""
             }
            },
            "type": "scattercarpet"
           }
          ],
          "scattergeo": [
           {
            "marker": {
             "colorbar": {
              "outlinewidth": 0,
              "ticks": ""
             }
            },
            "type": "scattergeo"
           }
          ],
          "scattergl": [
           {
            "marker": {
             "colorbar": {
              "outlinewidth": 0,
              "ticks": ""
             }
            },
            "type": "scattergl"
           }
          ],
          "scattermapbox": [
           {
            "marker": {
             "colorbar": {
              "outlinewidth": 0,
              "ticks": ""
             }
            },
            "type": "scattermapbox"
           }
          ],
          "scatterpolar": [
           {
            "marker": {
             "colorbar": {
              "outlinewidth": 0,
              "ticks": ""
             }
            },
            "type": "scatterpolar"
           }
          ],
          "scatterpolargl": [
           {
            "marker": {
             "colorbar": {
              "outlinewidth": 0,
              "ticks": ""
             }
            },
            "type": "scatterpolargl"
           }
          ],
          "scatterternary": [
           {
            "marker": {
             "colorbar": {
              "outlinewidth": 0,
              "ticks": ""
             }
            },
            "type": "scatterternary"
           }
          ],
          "surface": [
           {
            "colorbar": {
             "outlinewidth": 0,
             "ticks": ""
            },
            "colorscale": [
             [
              0,
              "#0d0887"
             ],
             [
              0.1111111111111111,
              "#46039f"
             ],
             [
              0.2222222222222222,
              "#7201a8"
             ],
             [
              0.3333333333333333,
              "#9c179e"
             ],
             [
              0.4444444444444444,
              "#bd3786"
             ],
             [
              0.5555555555555556,
              "#d8576b"
             ],
             [
              0.6666666666666666,
              "#ed7953"
             ],
             [
              0.7777777777777778,
              "#fb9f3a"
             ],
             [
              0.8888888888888888,
              "#fdca26"
             ],
             [
              1,
              "#f0f921"
             ]
            ],
            "type": "surface"
           }
          ],
          "table": [
           {
            "cells": {
             "fill": {
              "color": "#EBF0F8"
             },
             "line": {
              "color": "white"
             }
            },
            "header": {
             "fill": {
              "color": "#C8D4E3"
             },
             "line": {
              "color": "white"
             }
            },
            "type": "table"
           }
          ]
         },
         "layout": {
          "annotationdefaults": {
           "arrowcolor": "#2a3f5f",
           "arrowhead": 0,
           "arrowwidth": 1
          },
          "autotypenumbers": "strict",
          "coloraxis": {
           "colorbar": {
            "outlinewidth": 0,
            "ticks": ""
           }
          },
          "colorscale": {
           "diverging": [
            [
             0,
             "#8e0152"
            ],
            [
             0.1,
             "#c51b7d"
            ],
            [
             0.2,
             "#de77ae"
            ],
            [
             0.3,
             "#f1b6da"
            ],
            [
             0.4,
             "#fde0ef"
            ],
            [
             0.5,
             "#f7f7f7"
            ],
            [
             0.6,
             "#e6f5d0"
            ],
            [
             0.7,
             "#b8e186"
            ],
            [
             0.8,
             "#7fbc41"
            ],
            [
             0.9,
             "#4d9221"
            ],
            [
             1,
             "#276419"
            ]
           ],
           "sequential": [
            [
             0,
             "#0d0887"
            ],
            [
             0.1111111111111111,
             "#46039f"
            ],
            [
             0.2222222222222222,
             "#7201a8"
            ],
            [
             0.3333333333333333,
             "#9c179e"
            ],
            [
             0.4444444444444444,
             "#bd3786"
            ],
            [
             0.5555555555555556,
             "#d8576b"
            ],
            [
             0.6666666666666666,
             "#ed7953"
            ],
            [
             0.7777777777777778,
             "#fb9f3a"
            ],
            [
             0.8888888888888888,
             "#fdca26"
            ],
            [
             1,
             "#f0f921"
            ]
           ],
           "sequentialminus": [
            [
             0,
             "#0d0887"
            ],
            [
             0.1111111111111111,
             "#46039f"
            ],
            [
             0.2222222222222222,
             "#7201a8"
            ],
            [
             0.3333333333333333,
             "#9c179e"
            ],
            [
             0.4444444444444444,
             "#bd3786"
            ],
            [
             0.5555555555555556,
             "#d8576b"
            ],
            [
             0.6666666666666666,
             "#ed7953"
            ],
            [
             0.7777777777777778,
             "#fb9f3a"
            ],
            [
             0.8888888888888888,
             "#fdca26"
            ],
            [
             1,
             "#f0f921"
            ]
           ]
          },
          "colorway": [
           "#636efa",
           "#EF553B",
           "#00cc96",
           "#ab63fa",
           "#FFA15A",
           "#19d3f3",
           "#FF6692",
           "#B6E880",
           "#FF97FF",
           "#FECB52"
          ],
          "font": {
           "color": "#2a3f5f"
          },
          "geo": {
           "bgcolor": "white",
           "lakecolor": "white",
           "landcolor": "#E5ECF6",
           "showlakes": true,
           "showland": true,
           "subunitcolor": "white"
          },
          "hoverlabel": {
           "align": "left"
          },
          "hovermode": "closest",
          "mapbox": {
           "style": "light"
          },
          "paper_bgcolor": "white",
          "plot_bgcolor": "#E5ECF6",
          "polar": {
           "angularaxis": {
            "gridcolor": "white",
            "linecolor": "white",
            "ticks": ""
           },
           "bgcolor": "#E5ECF6",
           "radialaxis": {
            "gridcolor": "white",
            "linecolor": "white",
            "ticks": ""
           }
          },
          "scene": {
           "xaxis": {
            "backgroundcolor": "#E5ECF6",
            "gridcolor": "white",
            "gridwidth": 2,
            "linecolor": "white",
            "showbackground": true,
            "ticks": "",
            "zerolinecolor": "white"
           },
           "yaxis": {
            "backgroundcolor": "#E5ECF6",
            "gridcolor": "white",
            "gridwidth": 2,
            "linecolor": "white",
            "showbackground": true,
            "ticks": "",
            "zerolinecolor": "white"
           },
           "zaxis": {
            "backgroundcolor": "#E5ECF6",
            "gridcolor": "white",
            "gridwidth": 2,
            "linecolor": "white",
            "showbackground": true,
            "ticks": "",
            "zerolinecolor": "white"
           }
          },
          "shapedefaults": {
           "line": {
            "color": "#2a3f5f"
           }
          },
          "ternary": {
           "aaxis": {
            "gridcolor": "white",
            "linecolor": "white",
            "ticks": ""
           },
           "baxis": {
            "gridcolor": "white",
            "linecolor": "white",
            "ticks": ""
           },
           "bgcolor": "#E5ECF6",
           "caxis": {
            "gridcolor": "white",
            "linecolor": "white",
            "ticks": ""
           }
          },
          "title": {
           "x": 0.05
          },
          "xaxis": {
           "automargin": true,
           "gridcolor": "white",
           "linecolor": "white",
           "ticks": "",
           "title": {
            "standoff": 15
           },
           "zerolinecolor": "white",
           "zerolinewidth": 2
          },
          "yaxis": {
           "automargin": true,
           "gridcolor": "white",
           "linecolor": "white",
           "ticks": "",
           "title": {
            "standoff": 15
           },
           "zerolinecolor": "white",
           "zerolinewidth": 2
          }
         }
        },
        "title": {
         "text": "Top 10 Purchases In Different Category"
        }
       }
      }
     },
     "metadata": {},
     "output_type": "display_data"
    }
   ],
   "source": [
    "from plotly import graph_objects as go\n",
    "# Visualization of purchases in the Top 10 product categories\n",
    "top10_sorted = top10_buycounts_cat.sort_values(by='Purchases', ascending=False)\n",
    "labels = [\n",
    "    f\"Category ID: {int(row['item_third_cate_cd'])}, Purchase Count: {int(row['Purchases']):,}\"\n",
    "    for _, row in top10_sorted.iterrows()\n",
    "]\n",
    "values = top10_sorted['Purchases'].values\n",
    "colors = [\n",
    "    '#FFD000', '#FF6670', '#678F8D', '#77A88D', '#91BDA4',\n",
    "    '#A3C6B4', '#BED7C6', '#D4E4D9', '#E6F0EB', '#F2F7F4'\n",
    "]\n",
    "\n",
    "fig = go.Figure(data=[go.Pie(labels=labels,values=values)],\n",
    "               layout=go.Layout(title = 'Top 10 Purchases in different category'.title()))\n",
    "fig.update_traces(hoverinfo='label', textinfo='value', textfont_size=20,\n",
    "                  marker=dict(colors=colors,line=dict(color='white', width=1)))\n",
    "\n",
    "fig.show()"
   ]
  },
  {
   "cell_type": "markdown",
   "metadata": {},
   "source": [
    "### Mining usable information from product correlation\n",
    "- (1) Explicit correlation: category correlation, attribute correlation, etc;\n",
    "- (2) Implicit correlation: Apriori association mining, commodity vector similarity."
   ]
  },
  {
   "cell_type": "code",
   "execution_count": 62,
   "metadata": {},
   "outputs": [
    {
     "data": {
      "text/html": [
       "<div>\n",
       "<style scoped>\n",
       "    .dataframe tbody tr th:only-of-type {\n",
       "        vertical-align: middle;\n",
       "    }\n",
       "\n",
       "    .dataframe tbody tr th {\n",
       "        vertical-align: top;\n",
       "    }\n",
       "\n",
       "    .dataframe thead th {\n",
       "        text-align: right;\n",
       "    }\n",
       "</style>\n",
       "<table border=\"1\" class=\"dataframe\">\n",
       "  <thead>\n",
       "    <tr style=\"text-align: right;\">\n",
       "      <th></th>\n",
       "      <th>user_log_acct</th>\n",
       "      <th>item_sku_id</th>\n",
       "    </tr>\n",
       "  </thead>\n",
       "  <tbody>\n",
       "    <tr>\n",
       "      <th>0</th>\n",
       "      <td>2</td>\n",
       "      <td>341714 30171 71752 185628 98543 253315 3747 80...</td>\n",
       "    </tr>\n",
       "    <tr>\n",
       "      <th>1</th>\n",
       "      <td>4</td>\n",
       "      <td>114769 205762 7082 229924 233176 217000 58838</td>\n",
       "    </tr>\n",
       "    <tr>\n",
       "      <th>2</th>\n",
       "      <td>12</td>\n",
       "      <td>327130 37284</td>\n",
       "    </tr>\n",
       "    <tr>\n",
       "      <th>3</th>\n",
       "      <td>14</td>\n",
       "      <td>157860 147679 194609 47850</td>\n",
       "    </tr>\n",
       "    <tr>\n",
       "      <th>4</th>\n",
       "      <td>19</td>\n",
       "      <td>89666 112625 330502</td>\n",
       "    </tr>\n",
       "  </tbody>\n",
       "</table>\n",
       "</div>"
      ],
      "text/plain": [
       "   user_log_acct                                        item_sku_id\n",
       "0              2  341714 30171 71752 185628 98543 253315 3747 80...\n",
       "1              4      114769 205762 7082 229924 233176 217000 58838\n",
       "2             12                                       327130 37284\n",
       "3             14                         157860 147679 194609 47850\n",
       "4             19                                89666 112625 330502"
      ]
     },
     "execution_count": 62,
     "metadata": {},
     "output_type": "execute_result"
    }
   ],
   "source": [
    "from gensim.models import Word2Vec\n",
    "# Aggregate to get list of users, items\n",
    "df_group = click_df.groupby(['user_log_acct'])['item_sku_id'].apply(lambda x: ' '.join([str(m) for m in x])).reset_index()\n",
    "df_group.head()"
   ]
  },
  {
   "cell_type": "code",
   "execution_count": 63,
   "metadata": {},
   "outputs": [],
   "source": [
    "def get_w2v(sentences, f1, f2, values, emb_size): \n",
    "    \n",
    "    model = Word2Vec(sentences, vector_size=emb_size, sg=1, window=5, seed=2020, workers=4, min_count=1, epochs=10)\n",
    "    \n",
    "    w2v=[]\n",
    "    for v in values:\n",
    "        try:\n",
    "            a = [int(v)]\n",
    "            a.extend(model.wv[str(v)])\n",
    "            w2v.append(a)\n",
    "        except:\n",
    "            a = [int(v)]\n",
    "            a.extend([0] * emb_size)\n",
    "            w2v.append(a)\n",
    "    \n",
    "    out_df = []\n",
    "    for li in w2v:\n",
    "        out_df.append([li[0],li[1:]])\n",
    "        \n",
    "    out_df = pd.DataFrame(out_df)\n",
    "    out_df.columns = [f2] + ['vector']\n",
    "    \n",
    "    return out_df\n",
    "\n",
    "    \n",
    "def item2vec(df_, f1, f2, emb_size):\n",
    "    \n",
    "    df = df_.copy()\n",
    "    df = df.sort_values('action_time', ascending=True)\n",
    "   \n",
    "    sentences = df.groupby([f1])[f2].agg({list}).reset_index()['list'].values.tolist()\n",
    "    for i in range(len(sentences)):\n",
    "        sentences[i] = [str(x) for x in sentences[i]]\n",
    "    \n",
    "    values = df[f2].unique()\n",
    "    out_df = get_w2v(sentences, f1, f2, values, emb_size)\n",
    "    \n",
    "    return out_df"
   ]
  },
  {
   "cell_type": "code",
   "execution_count": 64,
   "metadata": {},
   "outputs": [],
   "source": [
    "emb_df = item2vec(click_df, 'user_log_acct', 'item_sku_id', 16)"
   ]
  },
  {
   "cell_type": "code",
   "execution_count": 65,
   "metadata": {},
   "outputs": [
    {
     "data": {
      "text/html": [
       "<div>\n",
       "<style scoped>\n",
       "    .dataframe tbody tr th:only-of-type {\n",
       "        vertical-align: middle;\n",
       "    }\n",
       "\n",
       "    .dataframe tbody tr th {\n",
       "        vertical-align: top;\n",
       "    }\n",
       "\n",
       "    .dataframe thead th {\n",
       "        text-align: right;\n",
       "    }\n",
       "</style>\n",
       "<table border=\"1\" class=\"dataframe\">\n",
       "  <thead>\n",
       "    <tr style=\"text-align: right;\">\n",
       "      <th></th>\n",
       "      <th>item_sku_id</th>\n",
       "      <th>vector</th>\n",
       "    </tr>\n",
       "  </thead>\n",
       "  <tbody>\n",
       "    <tr>\n",
       "      <th>0</th>\n",
       "      <td>140127</td>\n",
       "      <td>[-0.47437754, 0.106186464, 0.1816011, -0.49459...</td>\n",
       "    </tr>\n",
       "    <tr>\n",
       "      <th>1</th>\n",
       "      <td>190562</td>\n",
       "      <td>[-0.65456414, 0.8329624, -0.2658048, -0.777093...</td>\n",
       "    </tr>\n",
       "    <tr>\n",
       "      <th>2</th>\n",
       "      <td>119221</td>\n",
       "      <td>[0.56978077, 1.1644036, -0.23206344, -1.750171...</td>\n",
       "    </tr>\n",
       "    <tr>\n",
       "      <th>3</th>\n",
       "      <td>139872</td>\n",
       "      <td>[-0.45102575, 0.9253492, 0.0006576157, 0.19440...</td>\n",
       "    </tr>\n",
       "    <tr>\n",
       "      <th>4</th>\n",
       "      <td>244471</td>\n",
       "      <td>[0.04031368, 1.0244215, -0.9681893, -0.0467985...</td>\n",
       "    </tr>\n",
       "    <tr>\n",
       "      <th>...</th>\n",
       "      <td>...</td>\n",
       "      <td>...</td>\n",
       "    </tr>\n",
       "    <tr>\n",
       "      <th>186072</th>\n",
       "      <td>75006</td>\n",
       "      <td>[-0.14423636, 0.06048384, 0.031501308, -0.0724...</td>\n",
       "    </tr>\n",
       "    <tr>\n",
       "      <th>186073</th>\n",
       "      <td>283168</td>\n",
       "      <td>[-0.014574462, 0.36265835, -0.0315249, 0.06744...</td>\n",
       "    </tr>\n",
       "    <tr>\n",
       "      <th>186074</th>\n",
       "      <td>99292</td>\n",
       "      <td>[0.05240781, -0.04330851, -0.027281448, 0.0416...</td>\n",
       "    </tr>\n",
       "    <tr>\n",
       "      <th>186075</th>\n",
       "      <td>55286</td>\n",
       "      <td>[-0.16822468, 0.25447348, 0.006610166, -0.0790...</td>\n",
       "    </tr>\n",
       "    <tr>\n",
       "      <th>186076</th>\n",
       "      <td>319106</td>\n",
       "      <td>[-0.114533335, 0.31937224, -0.02399202, -0.224...</td>\n",
       "    </tr>\n",
       "  </tbody>\n",
       "</table>\n",
       "<p>186077 rows × 2 columns</p>\n",
       "</div>"
      ],
      "text/plain": [
       "        item_sku_id                                             vector\n",
       "0            140127  [-0.47437754, 0.106186464, 0.1816011, -0.49459...\n",
       "1            190562  [-0.65456414, 0.8329624, -0.2658048, -0.777093...\n",
       "2            119221  [0.56978077, 1.1644036, -0.23206344, -1.750171...\n",
       "3            139872  [-0.45102575, 0.9253492, 0.0006576157, 0.19440...\n",
       "4            244471  [0.04031368, 1.0244215, -0.9681893, -0.0467985...\n",
       "...             ...                                                ...\n",
       "186072        75006  [-0.14423636, 0.06048384, 0.031501308, -0.0724...\n",
       "186073       283168  [-0.014574462, 0.36265835, -0.0315249, 0.06744...\n",
       "186074        99292  [0.05240781, -0.04330851, -0.027281448, 0.0416...\n",
       "186075        55286  [-0.16822468, 0.25447348, 0.006610166, -0.0790...\n",
       "186076       319106  [-0.114533335, 0.31937224, -0.02399202, -0.224...\n",
       "\n",
       "[186077 rows x 2 columns]"
      ]
     },
     "execution_count": 65,
     "metadata": {},
     "output_type": "execute_result"
    }
   ],
   "source": [
    "emb_df"
   ]
  },
  {
   "cell_type": "code",
   "execution_count": 66,
   "metadata": {},
   "outputs": [],
   "source": [
    "# cosine similarity\n",
    "from scipy.spatial import distance\n",
    "\n",
    "item_embedding = emb_df.loc[emb_df[\"item_sku_id\"]==119221, \"vector\"].iloc[0]\n",
    "emb_df[\"sim_value\"] = emb_df[\"vector\"].map(lambda x : 1 - distance.cosine(item_embedding, x))"
   ]
  },
  {
   "cell_type": "code",
   "execution_count": 67,
   "metadata": {},
   "outputs": [
    {
     "data": {
      "text/html": [
       "<div>\n",
       "<style scoped>\n",
       "    .dataframe tbody tr th:only-of-type {\n",
       "        vertical-align: middle;\n",
       "    }\n",
       "\n",
       "    .dataframe tbody tr th {\n",
       "        vertical-align: top;\n",
       "    }\n",
       "\n",
       "    .dataframe thead th {\n",
       "        text-align: right;\n",
       "    }\n",
       "</style>\n",
       "<table border=\"1\" class=\"dataframe\">\n",
       "  <thead>\n",
       "    <tr style=\"text-align: right;\">\n",
       "      <th></th>\n",
       "      <th>item_sku_id</th>\n",
       "      <th>vector</th>\n",
       "      <th>sim_value</th>\n",
       "    </tr>\n",
       "  </thead>\n",
       "  <tbody>\n",
       "    <tr>\n",
       "      <th>2</th>\n",
       "      <td>119221</td>\n",
       "      <td>[0.56978077, 1.1644036, -0.23206344, -1.750171...</td>\n",
       "      <td>1.000000</td>\n",
       "    </tr>\n",
       "    <tr>\n",
       "      <th>37410</th>\n",
       "      <td>196956</td>\n",
       "      <td>[0.21430327, 0.8170942, -0.2075658, -1.1732997...</td>\n",
       "      <td>0.990905</td>\n",
       "    </tr>\n",
       "    <tr>\n",
       "      <th>40225</th>\n",
       "      <td>126828</td>\n",
       "      <td>[0.34572288, 0.7952544, -0.28350475, -1.114162...</td>\n",
       "      <td>0.985348</td>\n",
       "    </tr>\n",
       "    <tr>\n",
       "      <th>97533</th>\n",
       "      <td>77673</td>\n",
       "      <td>[0.1849927, 0.62913996, -0.36260378, -1.212292...</td>\n",
       "      <td>0.985035</td>\n",
       "    </tr>\n",
       "    <tr>\n",
       "      <th>47448</th>\n",
       "      <td>269207</td>\n",
       "      <td>[0.36460143, 0.64330167, -0.14632648, -1.35475...</td>\n",
       "      <td>0.982902</td>\n",
       "    </tr>\n",
       "    <tr>\n",
       "      <th>...</th>\n",
       "      <td>...</td>\n",
       "      <td>...</td>\n",
       "      <td>...</td>\n",
       "    </tr>\n",
       "    <tr>\n",
       "      <th>135675</th>\n",
       "      <td>63977</td>\n",
       "      <td>[0.10226628, 0.3968964, -0.009788945, -0.04182...</td>\n",
       "      <td>0.586623</td>\n",
       "    </tr>\n",
       "    <tr>\n",
       "      <th>41501</th>\n",
       "      <td>217913</td>\n",
       "      <td>[-0.26299998, 0.24176379, -0.033959385, -0.284...</td>\n",
       "      <td>0.586622</td>\n",
       "    </tr>\n",
       "    <tr>\n",
       "      <th>166270</th>\n",
       "      <td>227387</td>\n",
       "      <td>[-0.1012659, 0.30222616, -0.034116186, -0.2244...</td>\n",
       "      <td>0.586622</td>\n",
       "    </tr>\n",
       "    <tr>\n",
       "      <th>87216</th>\n",
       "      <td>97518</td>\n",
       "      <td>[0.10260402, 1.4743694, 0.37601703, -2.3399734...</td>\n",
       "      <td>0.586621</td>\n",
       "    </tr>\n",
       "    <tr>\n",
       "      <th>91771</th>\n",
       "      <td>162750</td>\n",
       "      <td>[-0.19649467, 0.37307152, -0.11302981, -0.1857...</td>\n",
       "      <td>0.586620</td>\n",
       "    </tr>\n",
       "  </tbody>\n",
       "</table>\n",
       "<p>50000 rows × 3 columns</p>\n",
       "</div>"
      ],
      "text/plain": [
       "        item_sku_id                                             vector  \\\n",
       "2            119221  [0.56978077, 1.1644036, -0.23206344, -1.750171...   \n",
       "37410        196956  [0.21430327, 0.8170942, -0.2075658, -1.1732997...   \n",
       "40225        126828  [0.34572288, 0.7952544, -0.28350475, -1.114162...   \n",
       "97533         77673  [0.1849927, 0.62913996, -0.36260378, -1.212292...   \n",
       "47448        269207  [0.36460143, 0.64330167, -0.14632648, -1.35475...   \n",
       "...             ...                                                ...   \n",
       "135675        63977  [0.10226628, 0.3968964, -0.009788945, -0.04182...   \n",
       "41501        217913  [-0.26299998, 0.24176379, -0.033959385, -0.284...   \n",
       "166270       227387  [-0.1012659, 0.30222616, -0.034116186, -0.2244...   \n",
       "87216         97518  [0.10260402, 1.4743694, 0.37601703, -2.3399734...   \n",
       "91771        162750  [-0.19649467, 0.37307152, -0.11302981, -0.1857...   \n",
       "\n",
       "        sim_value  \n",
       "2        1.000000  \n",
       "37410    0.990905  \n",
       "40225    0.985348  \n",
       "97533    0.985035  \n",
       "47448    0.982902  \n",
       "...           ...  \n",
       "135675   0.586623  \n",
       "41501    0.586622  \n",
       "166270   0.586622  \n",
       "87216    0.586621  \n",
       "91771    0.586620  \n",
       "\n",
       "[50000 rows x 3 columns]"
      ]
     },
     "execution_count": 67,
     "metadata": {},
     "output_type": "execute_result"
    }
   ],
   "source": [
    "# Sort by similarity in descending order, query first 10 items\n",
    "emb_df.sort_values(by=\"sim_value\", ascending=False)[:50000]"
   ]
  },
  {
   "cell_type": "markdown",
   "metadata": {},
   "source": [
    "### User value analysis using RFM models and ways to respond to it"
   ]
  },
  {
   "cell_type": "markdown",
   "metadata": {},
   "source": [
    "However, due to the lack of amounts in this dataset, we can only categorize the value of the user in terms of R (recent time of consumption) and F (frequency of consumption over this period of time).\n",
    "\n",
    "- R (Recency): based on the user's most recent purchase time to April 16, 2020 time difference to determine the user's most recent consumption time interval\n",
    "- F (Frequency): the number of times the user consumed in the dataset from April 08, 2020 to April 15, 2020 to be used as frequency"
   ]
  },
  {
   "cell_type": "markdown",
   "metadata": {},
   "source": [
    "|                 | R-values | F-values |\n",
    "| --------------- | -------- | -------- |\n",
    "| Important Users | High     | High     |\n",
    "| Keep Users      | High     | Low      |\n",
    "| Retain Users    | Low      | High     |\n",
    "| Developing Users| Low      | Low      |"
   ]
  },
  {
   "cell_type": "markdown",
   "metadata": {},
   "source": [
    "#### Define scoring criteria for R and F values"
   ]
  },
  {
   "cell_type": "markdown",
   "metadata": {},
   "source": [
    "Since there are only 8 days of data, the R-value scoring criteria are defined as follows:\n",
    "\n",
    "| Score | R (time difference)|\n",
    "| ----| ---- |\n",
    "| 5 | 1 day |\n",
    "| 4 | 2-3 days |\n",
    "| 3 | 4-5 days |\n",
    "| 2 | 6-7 days |\n",
    "| 1 | >7 days |\n",
    "\n",
    "|Score |  F Value(Purchase Frequency)|\n",
    "| ----| ---- |\n",
    "| 5  | >10  |\n",
    "| 4  | 6-10 |\n",
    "| 3  | 3-5  |\n",
    "| 2  | 2    |\n",
    "| 1  | 1    |"
   ]
  },
  {
   "cell_type": "code",
   "execution_count": 68,
   "metadata": {},
   "outputs": [
    {
     "data": {
      "text/html": [
       "<div>\n",
       "<style scoped>\n",
       "    .dataframe tbody tr th:only-of-type {\n",
       "        vertical-align: middle;\n",
       "    }\n",
       "\n",
       "    .dataframe tbody tr th {\n",
       "        vertical-align: top;\n",
       "    }\n",
       "\n",
       "    .dataframe thead th {\n",
       "        text-align: right;\n",
       "    }\n",
       "</style>\n",
       "<table border=\"1\" class=\"dataframe\">\n",
       "  <thead>\n",
       "    <tr style=\"text-align: right;\">\n",
       "      <th></th>\n",
       "      <th>User Name</th>\n",
       "      <th>R Value</th>\n",
       "    </tr>\n",
       "  </thead>\n",
       "  <tbody>\n",
       "    <tr>\n",
       "      <th>0</th>\n",
       "      <td>2</td>\n",
       "      <td>2</td>\n",
       "    </tr>\n",
       "    <tr>\n",
       "      <th>1</th>\n",
       "      <td>12</td>\n",
       "      <td>3</td>\n",
       "    </tr>\n",
       "    <tr>\n",
       "      <th>2</th>\n",
       "      <td>14</td>\n",
       "      <td>8</td>\n",
       "    </tr>\n",
       "    <tr>\n",
       "      <th>3</th>\n",
       "      <td>26</td>\n",
       "      <td>6</td>\n",
       "    </tr>\n",
       "    <tr>\n",
       "      <th>4</th>\n",
       "      <td>37</td>\n",
       "      <td>4</td>\n",
       "    </tr>\n",
       "  </tbody>\n",
       "</table>\n",
       "</div>"
      ],
      "text/plain": [
       "   User Name  R Value\n",
       "0          2        2\n",
       "1         12        3\n",
       "2         14        8\n",
       "3         26        6\n",
       "4         37        4"
      ]
     },
     "execution_count": 68,
     "metadata": {},
     "output_type": "execute_result"
    }
   ],
   "source": [
    "today = pd.to_datetime(\"2020-04-16\")\n",
    "Recency = (\n",
    "    click_df[click_df.action_order == 1]\n",
    "    .groupby('user_log_acct')['date']\n",
    "    .max()\n",
    "    .reset_index()\n",
    ")\n",
    "Recency['R Value'] = (today - pd.to_datetime(Recency['date'])).dt.days\n",
    "Recency.rename(columns={'user_log_acct': 'User Name'}, inplace=True)\n",
    "Recency = Recency[['User Name', 'R Value']]\n",
    "Recency.head()"
   ]
  },
  {
   "cell_type": "code",
   "execution_count": 69,
   "metadata": {},
   "outputs": [
    {
     "data": {
      "text/html": [
       "<div>\n",
       "<style scoped>\n",
       "    .dataframe tbody tr th:only-of-type {\n",
       "        vertical-align: middle;\n",
       "    }\n",
       "\n",
       "    .dataframe tbody tr th {\n",
       "        vertical-align: top;\n",
       "    }\n",
       "\n",
       "    .dataframe thead th {\n",
       "        text-align: right;\n",
       "    }\n",
       "</style>\n",
       "<table border=\"1\" class=\"dataframe\">\n",
       "  <thead>\n",
       "    <tr style=\"text-align: right;\">\n",
       "      <th></th>\n",
       "      <th>User Name</th>\n",
       "      <th>F Value</th>\n",
       "    </tr>\n",
       "  </thead>\n",
       "  <tbody>\n",
       "    <tr>\n",
       "      <th>0</th>\n",
       "      <td>2</td>\n",
       "      <td>1</td>\n",
       "    </tr>\n",
       "    <tr>\n",
       "      <th>1</th>\n",
       "      <td>12</td>\n",
       "      <td>1</td>\n",
       "    </tr>\n",
       "    <tr>\n",
       "      <th>2</th>\n",
       "      <td>14</td>\n",
       "      <td>1</td>\n",
       "    </tr>\n",
       "    <tr>\n",
       "      <th>3</th>\n",
       "      <td>26</td>\n",
       "      <td>1</td>\n",
       "    </tr>\n",
       "    <tr>\n",
       "      <th>4</th>\n",
       "      <td>37</td>\n",
       "      <td>1</td>\n",
       "    </tr>\n",
       "  </tbody>\n",
       "</table>\n",
       "</div>"
      ],
      "text/plain": [
       "   User Name  F Value\n",
       "0          2        1\n",
       "1         12        1\n",
       "2         14        1\n",
       "3         26        1\n",
       "4         37        1"
      ]
     },
     "execution_count": 69,
     "metadata": {},
     "output_type": "execute_result"
    }
   ],
   "source": [
    "Frequery = click_df[click_df.action_order==1].groupby(['user_log_acct'])['date'].count().reset_index()\n",
    "Frequery.columns = ['User Name','F Value']\n",
    "Frequery.head()"
   ]
  },
  {
   "cell_type": "code",
   "execution_count": 70,
   "metadata": {},
   "outputs": [
    {
     "data": {
      "text/html": [
       "<div>\n",
       "<style scoped>\n",
       "    .dataframe tbody tr th:only-of-type {\n",
       "        vertical-align: middle;\n",
       "    }\n",
       "\n",
       "    .dataframe tbody tr th {\n",
       "        vertical-align: top;\n",
       "    }\n",
       "\n",
       "    .dataframe thead th {\n",
       "        text-align: right;\n",
       "    }\n",
       "</style>\n",
       "<table border=\"1\" class=\"dataframe\">\n",
       "  <thead>\n",
       "    <tr style=\"text-align: right;\">\n",
       "      <th></th>\n",
       "      <th>User Name</th>\n",
       "      <th>R Value</th>\n",
       "      <th>F Value</th>\n",
       "    </tr>\n",
       "  </thead>\n",
       "  <tbody>\n",
       "    <tr>\n",
       "      <th>0</th>\n",
       "      <td>2</td>\n",
       "      <td>2</td>\n",
       "      <td>1</td>\n",
       "    </tr>\n",
       "    <tr>\n",
       "      <th>1</th>\n",
       "      <td>12</td>\n",
       "      <td>3</td>\n",
       "      <td>1</td>\n",
       "    </tr>\n",
       "    <tr>\n",
       "      <th>2</th>\n",
       "      <td>14</td>\n",
       "      <td>8</td>\n",
       "      <td>1</td>\n",
       "    </tr>\n",
       "    <tr>\n",
       "      <th>3</th>\n",
       "      <td>26</td>\n",
       "      <td>6</td>\n",
       "      <td>1</td>\n",
       "    </tr>\n",
       "    <tr>\n",
       "      <th>4</th>\n",
       "      <td>37</td>\n",
       "      <td>4</td>\n",
       "      <td>1</td>\n",
       "    </tr>\n",
       "  </tbody>\n",
       "</table>\n",
       "</div>"
      ],
      "text/plain": [
       "   User Name  R Value  F Value\n",
       "0          2        2        1\n",
       "1         12        3        1\n",
       "2         14        8        1\n",
       "3         26        6        1\n",
       "4         37        4        1"
      ]
     },
     "execution_count": 70,
     "metadata": {},
     "output_type": "execute_result"
    }
   ],
   "source": [
    "RFM = pd.merge(Recency, Frequery, on='User Name')\n",
    "RFM.head()"
   ]
  },
  {
   "cell_type": "markdown",
   "metadata": {},
   "source": [
    "Before establishing the F-value scoring criteria, one needs to look at the distribution of purchases"
   ]
  },
  {
   "cell_type": "code",
   "execution_count": 71,
   "metadata": {},
   "outputs": [
    {
     "name": "stdout",
     "output_type": "stream",
     "text": [
      "1.0\n",
      "2.0\n",
      "2.0\n",
      "4.0\n"
     ]
    }
   ],
   "source": [
    "print(RFM['F Value'].quantile(0.8))\n",
    "print(RFM['F Value'].quantile(0.9))\n",
    "print(RFM['F Value'].quantile(0.95))\n",
    "print(RFM['F Value'].quantile(0.99))"
   ]
  },
  {
   "cell_type": "code",
   "execution_count": 72,
   "metadata": {},
   "outputs": [],
   "source": [
    "def R(recent):\n",
    "    if recent <= 1:\n",
    "        return 5\n",
    "    elif recent <= 3:\n",
    "        return 4\n",
    "    elif recent <= 5:\n",
    "        return 3\n",
    "    elif recent <= 7:\n",
    "        return 2\n",
    "    else:\n",
    "        return 1\n",
    "\n",
    "def F(freq):\n",
    "    if freq > 10:\n",
    "        return 5\n",
    "    elif freq >= 6:\n",
    "        return 4\n",
    "    elif freq >= 3:\n",
    "        return 3\n",
    "    elif freq == 2:\n",
    "        return 2\n",
    "    else:\n",
    "        return 1\n",
    "\n",
    "RFM['R Score'] = RFM['R Value'].apply(R)\n",
    "RFM['F Score'] = RFM['F Value'].apply(F)\n",
    "RFM['RFM'] = RFM['R Score'] + RFM['F Score'] \n"
   ]
  },
  {
   "cell_type": "code",
   "execution_count": 73,
   "metadata": {},
   "outputs": [
    {
     "data": {
      "text/plain": [
       "2.620379345287924"
      ]
     },
     "execution_count": 73,
     "metadata": {},
     "output_type": "execute_result"
    }
   ],
   "source": [
    "RFM['R Score'].mean() / RFM['F Score'].mean()"
   ]
  },
  {
   "cell_type": "code",
   "execution_count": 74,
   "metadata": {},
   "outputs": [
    {
     "data": {
      "text/plain": [
       "1.1381363687648083"
      ]
     },
     "execution_count": 74,
     "metadata": {},
     "output_type": "execute_result"
    }
   ],
   "source": [
    "RFM['F Score'].mean()"
   ]
  },
  {
   "cell_type": "code",
   "execution_count": 75,
   "metadata": {},
   "outputs": [
    {
     "data": {
      "text/html": [
       "<div>\n",
       "<style scoped>\n",
       "    .dataframe tbody tr th:only-of-type {\n",
       "        vertical-align: middle;\n",
       "    }\n",
       "\n",
       "    .dataframe tbody tr th {\n",
       "        vertical-align: top;\n",
       "    }\n",
       "\n",
       "    .dataframe thead th {\n",
       "        text-align: right;\n",
       "    }\n",
       "</style>\n",
       "<table border=\"1\" class=\"dataframe\">\n",
       "  <thead>\n",
       "    <tr style=\"text-align: right;\">\n",
       "      <th></th>\n",
       "      <th>User Name</th>\n",
       "      <th>R Value</th>\n",
       "      <th>F Value</th>\n",
       "      <th>R Score</th>\n",
       "      <th>F Score</th>\n",
       "      <th>RFM</th>\n",
       "    </tr>\n",
       "  </thead>\n",
       "  <tbody>\n",
       "    <tr>\n",
       "      <th>count</th>\n",
       "      <td>1.595380e+05</td>\n",
       "      <td>159538.000000</td>\n",
       "      <td>159538.000000</td>\n",
       "      <td>159538.000000</td>\n",
       "      <td>159538.000000</td>\n",
       "      <td>159538.000000</td>\n",
       "    </tr>\n",
       "    <tr>\n",
       "      <th>mean</th>\n",
       "      <td>8.041728e+05</td>\n",
       "      <td>4.529090</td>\n",
       "      <td>1.160727</td>\n",
       "      <td>2.982349</td>\n",
       "      <td>1.138136</td>\n",
       "      <td>4.120485</td>\n",
       "    </tr>\n",
       "    <tr>\n",
       "      <th>std</th>\n",
       "      <td>4.647668e+05</td>\n",
       "      <td>2.273051</td>\n",
       "      <td>0.649586</td>\n",
       "      <td>1.212107</td>\n",
       "      <td>0.430651</td>\n",
       "      <td>1.312435</td>\n",
       "    </tr>\n",
       "    <tr>\n",
       "      <th>min</th>\n",
       "      <td>2.000000e+00</td>\n",
       "      <td>1.000000</td>\n",
       "      <td>1.000000</td>\n",
       "      <td>1.000000</td>\n",
       "      <td>1.000000</td>\n",
       "      <td>2.000000</td>\n",
       "    </tr>\n",
       "    <tr>\n",
       "      <th>25%</th>\n",
       "      <td>4.006512e+05</td>\n",
       "      <td>3.000000</td>\n",
       "      <td>1.000000</td>\n",
       "      <td>2.000000</td>\n",
       "      <td>1.000000</td>\n",
       "      <td>3.000000</td>\n",
       "    </tr>\n",
       "    <tr>\n",
       "      <th>50%</th>\n",
       "      <td>8.052455e+05</td>\n",
       "      <td>5.000000</td>\n",
       "      <td>1.000000</td>\n",
       "      <td>3.000000</td>\n",
       "      <td>1.000000</td>\n",
       "      <td>4.000000</td>\n",
       "    </tr>\n",
       "    <tr>\n",
       "      <th>75%</th>\n",
       "      <td>1.207603e+06</td>\n",
       "      <td>7.000000</td>\n",
       "      <td>1.000000</td>\n",
       "      <td>4.000000</td>\n",
       "      <td>1.000000</td>\n",
       "      <td>5.000000</td>\n",
       "    </tr>\n",
       "    <tr>\n",
       "      <th>max</th>\n",
       "      <td>1.608697e+06</td>\n",
       "      <td>8.000000</td>\n",
       "      <td>90.000000</td>\n",
       "      <td>5.000000</td>\n",
       "      <td>5.000000</td>\n",
       "      <td>10.000000</td>\n",
       "    </tr>\n",
       "  </tbody>\n",
       "</table>\n",
       "</div>"
      ],
      "text/plain": [
       "          User Name        R Value        F Value        R Score  \\\n",
       "count  1.595380e+05  159538.000000  159538.000000  159538.000000   \n",
       "mean   8.041728e+05       4.529090       1.160727       2.982349   \n",
       "std    4.647668e+05       2.273051       0.649586       1.212107   \n",
       "min    2.000000e+00       1.000000       1.000000       1.000000   \n",
       "25%    4.006512e+05       3.000000       1.000000       2.000000   \n",
       "50%    8.052455e+05       5.000000       1.000000       3.000000   \n",
       "75%    1.207603e+06       7.000000       1.000000       4.000000   \n",
       "max    1.608697e+06       8.000000      90.000000       5.000000   \n",
       "\n",
       "             F Score            RFM  \n",
       "count  159538.000000  159538.000000  \n",
       "mean        1.138136       4.120485  \n",
       "std         0.430651       1.312435  \n",
       "min         1.000000       2.000000  \n",
       "25%         1.000000       3.000000  \n",
       "50%         1.000000       4.000000  \n",
       "75%         1.000000       5.000000  \n",
       "max         5.000000      10.000000  "
      ]
     },
     "execution_count": 75,
     "metadata": {},
     "output_type": "execute_result"
    }
   ],
   "source": [
    "RFM.describe()"
   ]
  },
  {
   "cell_type": "code",
   "execution_count": 76,
   "metadata": {},
   "outputs": [],
   "source": [
    "def get_segment_by_RF(r, f):\n",
    "    if r >= 4 and f >= 4:\n",
    "        return \"Important User\"\n",
    "    elif r >= 4 and f < 4:\n",
    "        return \"Keep User\"\n",
    "    elif r < 4 and f >= 4:\n",
    "        return \"Retain User\"\n",
    "    else:\n",
    "        return \"Developing User\"\n"
   ]
  },
  {
   "cell_type": "code",
   "execution_count": 77,
   "metadata": {},
   "outputs": [],
   "source": [
    "RFM['Segment Label'] = RFM.apply(lambda row: get_segment_by_RF(row['R Score'], row['F Score']), axis=1)"
   ]
  },
  {
   "cell_type": "code",
   "execution_count": 78,
   "metadata": {},
   "outputs": [
    {
     "data": {
      "text/html": [
       "<div>\n",
       "<style scoped>\n",
       "    .dataframe tbody tr th:only-of-type {\n",
       "        vertical-align: middle;\n",
       "    }\n",
       "\n",
       "    .dataframe tbody tr th {\n",
       "        vertical-align: top;\n",
       "    }\n",
       "\n",
       "    .dataframe thead th {\n",
       "        text-align: right;\n",
       "    }\n",
       "</style>\n",
       "<table border=\"1\" class=\"dataframe\">\n",
       "  <thead>\n",
       "    <tr style=\"text-align: right;\">\n",
       "      <th></th>\n",
       "      <th>User Name</th>\n",
       "      <th>R Value</th>\n",
       "      <th>F Value</th>\n",
       "      <th>R Score</th>\n",
       "      <th>F Score</th>\n",
       "      <th>RFM</th>\n",
       "      <th>Segment Label</th>\n",
       "    </tr>\n",
       "  </thead>\n",
       "  <tbody>\n",
       "    <tr>\n",
       "      <th>0</th>\n",
       "      <td>2</td>\n",
       "      <td>2</td>\n",
       "      <td>1</td>\n",
       "      <td>4</td>\n",
       "      <td>1</td>\n",
       "      <td>5</td>\n",
       "      <td>Keep User</td>\n",
       "    </tr>\n",
       "    <tr>\n",
       "      <th>1</th>\n",
       "      <td>12</td>\n",
       "      <td>3</td>\n",
       "      <td>1</td>\n",
       "      <td>4</td>\n",
       "      <td>1</td>\n",
       "      <td>5</td>\n",
       "      <td>Keep User</td>\n",
       "    </tr>\n",
       "    <tr>\n",
       "      <th>2</th>\n",
       "      <td>14</td>\n",
       "      <td>8</td>\n",
       "      <td>1</td>\n",
       "      <td>1</td>\n",
       "      <td>1</td>\n",
       "      <td>2</td>\n",
       "      <td>Developing User</td>\n",
       "    </tr>\n",
       "    <tr>\n",
       "      <th>3</th>\n",
       "      <td>26</td>\n",
       "      <td>6</td>\n",
       "      <td>1</td>\n",
       "      <td>2</td>\n",
       "      <td>1</td>\n",
       "      <td>3</td>\n",
       "      <td>Developing User</td>\n",
       "    </tr>\n",
       "    <tr>\n",
       "      <th>4</th>\n",
       "      <td>37</td>\n",
       "      <td>4</td>\n",
       "      <td>1</td>\n",
       "      <td>3</td>\n",
       "      <td>1</td>\n",
       "      <td>4</td>\n",
       "      <td>Developing User</td>\n",
       "    </tr>\n",
       "    <tr>\n",
       "      <th>...</th>\n",
       "      <td>...</td>\n",
       "      <td>...</td>\n",
       "      <td>...</td>\n",
       "      <td>...</td>\n",
       "      <td>...</td>\n",
       "      <td>...</td>\n",
       "      <td>...</td>\n",
       "    </tr>\n",
       "    <tr>\n",
       "      <th>159533</th>\n",
       "      <td>1608689</td>\n",
       "      <td>7</td>\n",
       "      <td>1</td>\n",
       "      <td>2</td>\n",
       "      <td>1</td>\n",
       "      <td>3</td>\n",
       "      <td>Developing User</td>\n",
       "    </tr>\n",
       "    <tr>\n",
       "      <th>159534</th>\n",
       "      <td>1608690</td>\n",
       "      <td>6</td>\n",
       "      <td>1</td>\n",
       "      <td>2</td>\n",
       "      <td>1</td>\n",
       "      <td>3</td>\n",
       "      <td>Developing User</td>\n",
       "    </tr>\n",
       "    <tr>\n",
       "      <th>159535</th>\n",
       "      <td>1608694</td>\n",
       "      <td>6</td>\n",
       "      <td>1</td>\n",
       "      <td>2</td>\n",
       "      <td>1</td>\n",
       "      <td>3</td>\n",
       "      <td>Developing User</td>\n",
       "    </tr>\n",
       "    <tr>\n",
       "      <th>159536</th>\n",
       "      <td>1608695</td>\n",
       "      <td>6</td>\n",
       "      <td>1</td>\n",
       "      <td>2</td>\n",
       "      <td>1</td>\n",
       "      <td>3</td>\n",
       "      <td>Developing User</td>\n",
       "    </tr>\n",
       "    <tr>\n",
       "      <th>159537</th>\n",
       "      <td>1608697</td>\n",
       "      <td>3</td>\n",
       "      <td>1</td>\n",
       "      <td>4</td>\n",
       "      <td>1</td>\n",
       "      <td>5</td>\n",
       "      <td>Keep User</td>\n",
       "    </tr>\n",
       "  </tbody>\n",
       "</table>\n",
       "<p>159538 rows × 7 columns</p>\n",
       "</div>"
      ],
      "text/plain": [
       "        User Name  R Value  F Value  R Score  F Score  RFM    Segment Label\n",
       "0               2        2        1        4        1    5        Keep User\n",
       "1              12        3        1        4        1    5        Keep User\n",
       "2              14        8        1        1        1    2  Developing User\n",
       "3              26        6        1        2        1    3  Developing User\n",
       "4              37        4        1        3        1    4  Developing User\n",
       "...           ...      ...      ...      ...      ...  ...              ...\n",
       "159533    1608689        7        1        2        1    3  Developing User\n",
       "159534    1608690        6        1        2        1    3  Developing User\n",
       "159535    1608694        6        1        2        1    3  Developing User\n",
       "159536    1608695        6        1        2        1    3  Developing User\n",
       "159537    1608697        3        1        4        1    5        Keep User\n",
       "\n",
       "[159538 rows x 7 columns]"
      ]
     },
     "execution_count": 78,
     "metadata": {},
     "output_type": "execute_result"
    }
   ],
   "source": [
    "RFM"
   ]
  },
  {
   "cell_type": "code",
   "execution_count": 79,
   "metadata": {},
   "outputs": [
    {
     "data": {
      "text/plain": [
       "Segment Label\n",
       "Developing User    100874\n",
       "Keep User           58279\n",
       "Important User        213\n",
       "Retain User           172\n",
       "Name: count, dtype: int64"
      ]
     },
     "execution_count": 79,
     "metadata": {},
     "output_type": "execute_result"
    }
   ],
   "source": [
    "RFM['Segment Label'].value_counts()"
   ]
  },
  {
   "cell_type": "code",
   "execution_count": 92,
   "metadata": {},
   "outputs": [
    {
     "data": {
      "application/vnd.plotly.v1+json": {
       "config": {
        "plotlyServerURL": "https://plot.ly"
       },
       "data": [
        {
         "labels": [
          "Developing User: 100,874 users",
          "Keep User: 58,279 users",
          "Important User: 213 users",
          "Retain User: 172 users"
         ],
         "marker": {
          "colors": [
           "#CBD6D5",
           "#88BDBC",
           "#254E70",
           "#FFE156"
          ],
          "line": {
           "color": "white",
           "width": 1
          }
         },
         "pull": [
          0,
          0,
          0.05,
          0.05
         ],
         "textfont": {
          "size": 16
         },
         "textinfo": "percent",
         "type": "pie",
         "values": [
          100874,
          58279,
          213,
          172
         ]
        }
       ],
       "layout": {
        "legend": {
         "orientation": "v",
         "x": 1,
         "y": 0.5
        },
        "margin": {
         "b": 80,
         "l": 80,
         "r": 80,
         "t": 80
        },
        "template": {
         "data": {
          "bar": [
           {
            "error_x": {
             "color": "#2a3f5f"
            },
            "error_y": {
             "color": "#2a3f5f"
            },
            "marker": {
             "line": {
              "color": "#E5ECF6",
              "width": 0.5
             },
             "pattern": {
              "fillmode": "overlay",
              "size": 10,
              "solidity": 0.2
             }
            },
            "type": "bar"
           }
          ],
          "barpolar": [
           {
            "marker": {
             "line": {
              "color": "#E5ECF6",
              "width": 0.5
             },
             "pattern": {
              "fillmode": "overlay",
              "size": 10,
              "solidity": 0.2
             }
            },
            "type": "barpolar"
           }
          ],
          "carpet": [
           {
            "aaxis": {
             "endlinecolor": "#2a3f5f",
             "gridcolor": "white",
             "linecolor": "white",
             "minorgridcolor": "white",
             "startlinecolor": "#2a3f5f"
            },
            "baxis": {
             "endlinecolor": "#2a3f5f",
             "gridcolor": "white",
             "linecolor": "white",
             "minorgridcolor": "white",
             "startlinecolor": "#2a3f5f"
            },
            "type": "carpet"
           }
          ],
          "choropleth": [
           {
            "colorbar": {
             "outlinewidth": 0,
             "ticks": ""
            },
            "type": "choropleth"
           }
          ],
          "contour": [
           {
            "colorbar": {
             "outlinewidth": 0,
             "ticks": ""
            },
            "colorscale": [
             [
              0,
              "#0d0887"
             ],
             [
              0.1111111111111111,
              "#46039f"
             ],
             [
              0.2222222222222222,
              "#7201a8"
             ],
             [
              0.3333333333333333,
              "#9c179e"
             ],
             [
              0.4444444444444444,
              "#bd3786"
             ],
             [
              0.5555555555555556,
              "#d8576b"
             ],
             [
              0.6666666666666666,
              "#ed7953"
             ],
             [
              0.7777777777777778,
              "#fb9f3a"
             ],
             [
              0.8888888888888888,
              "#fdca26"
             ],
             [
              1,
              "#f0f921"
             ]
            ],
            "type": "contour"
           }
          ],
          "contourcarpet": [
           {
            "colorbar": {
             "outlinewidth": 0,
             "ticks": ""
            },
            "type": "contourcarpet"
           }
          ],
          "heatmap": [
           {
            "colorbar": {
             "outlinewidth": 0,
             "ticks": ""
            },
            "colorscale": [
             [
              0,
              "#0d0887"
             ],
             [
              0.1111111111111111,
              "#46039f"
             ],
             [
              0.2222222222222222,
              "#7201a8"
             ],
             [
              0.3333333333333333,
              "#9c179e"
             ],
             [
              0.4444444444444444,
              "#bd3786"
             ],
             [
              0.5555555555555556,
              "#d8576b"
             ],
             [
              0.6666666666666666,
              "#ed7953"
             ],
             [
              0.7777777777777778,
              "#fb9f3a"
             ],
             [
              0.8888888888888888,
              "#fdca26"
             ],
             [
              1,
              "#f0f921"
             ]
            ],
            "type": "heatmap"
           }
          ],
          "heatmapgl": [
           {
            "colorbar": {
             "outlinewidth": 0,
             "ticks": ""
            },
            "colorscale": [
             [
              0,
              "#0d0887"
             ],
             [
              0.1111111111111111,
              "#46039f"
             ],
             [
              0.2222222222222222,
              "#7201a8"
             ],
             [
              0.3333333333333333,
              "#9c179e"
             ],
             [
              0.4444444444444444,
              "#bd3786"
             ],
             [
              0.5555555555555556,
              "#d8576b"
             ],
             [
              0.6666666666666666,
              "#ed7953"
             ],
             [
              0.7777777777777778,
              "#fb9f3a"
             ],
             [
              0.8888888888888888,
              "#fdca26"
             ],
             [
              1,
              "#f0f921"
             ]
            ],
            "type": "heatmapgl"
           }
          ],
          "histogram": [
           {
            "marker": {
             "pattern": {
              "fillmode": "overlay",
              "size": 10,
              "solidity": 0.2
             }
            },
            "type": "histogram"
           }
          ],
          "histogram2d": [
           {
            "colorbar": {
             "outlinewidth": 0,
             "ticks": ""
            },
            "colorscale": [
             [
              0,
              "#0d0887"
             ],
             [
              0.1111111111111111,
              "#46039f"
             ],
             [
              0.2222222222222222,
              "#7201a8"
             ],
             [
              0.3333333333333333,
              "#9c179e"
             ],
             [
              0.4444444444444444,
              "#bd3786"
             ],
             [
              0.5555555555555556,
              "#d8576b"
             ],
             [
              0.6666666666666666,
              "#ed7953"
             ],
             [
              0.7777777777777778,
              "#fb9f3a"
             ],
             [
              0.8888888888888888,
              "#fdca26"
             ],
             [
              1,
              "#f0f921"
             ]
            ],
            "type": "histogram2d"
           }
          ],
          "histogram2dcontour": [
           {
            "colorbar": {
             "outlinewidth": 0,
             "ticks": ""
            },
            "colorscale": [
             [
              0,
              "#0d0887"
             ],
             [
              0.1111111111111111,
              "#46039f"
             ],
             [
              0.2222222222222222,
              "#7201a8"
             ],
             [
              0.3333333333333333,
              "#9c179e"
             ],
             [
              0.4444444444444444,
              "#bd3786"
             ],
             [
              0.5555555555555556,
              "#d8576b"
             ],
             [
              0.6666666666666666,
              "#ed7953"
             ],
             [
              0.7777777777777778,
              "#fb9f3a"
             ],
             [
              0.8888888888888888,
              "#fdca26"
             ],
             [
              1,
              "#f0f921"
             ]
            ],
            "type": "histogram2dcontour"
           }
          ],
          "mesh3d": [
           {
            "colorbar": {
             "outlinewidth": 0,
             "ticks": ""
            },
            "type": "mesh3d"
           }
          ],
          "parcoords": [
           {
            "line": {
             "colorbar": {
              "outlinewidth": 0,
              "ticks": ""
             }
            },
            "type": "parcoords"
           }
          ],
          "pie": [
           {
            "automargin": true,
            "type": "pie"
           }
          ],
          "scatter": [
           {
            "fillpattern": {
             "fillmode": "overlay",
             "size": 10,
             "solidity": 0.2
            },
            "type": "scatter"
           }
          ],
          "scatter3d": [
           {
            "line": {
             "colorbar": {
              "outlinewidth": 0,
              "ticks": ""
             }
            },
            "marker": {
             "colorbar": {
              "outlinewidth": 0,
              "ticks": ""
             }
            },
            "type": "scatter3d"
           }
          ],
          "scattercarpet": [
           {
            "marker": {
             "colorbar": {
              "outlinewidth": 0,
              "ticks": ""
             }
            },
            "type": "scattercarpet"
           }
          ],
          "scattergeo": [
           {
            "marker": {
             "colorbar": {
              "outlinewidth": 0,
              "ticks": ""
             }
            },
            "type": "scattergeo"
           }
          ],
          "scattergl": [
           {
            "marker": {
             "colorbar": {
              "outlinewidth": 0,
              "ticks": ""
             }
            },
            "type": "scattergl"
           }
          ],
          "scattermapbox": [
           {
            "marker": {
             "colorbar": {
              "outlinewidth": 0,
              "ticks": ""
             }
            },
            "type": "scattermapbox"
           }
          ],
          "scatterpolar": [
           {
            "marker": {
             "colorbar": {
              "outlinewidth": 0,
              "ticks": ""
             }
            },
            "type": "scatterpolar"
           }
          ],
          "scatterpolargl": [
           {
            "marker": {
             "colorbar": {
              "outlinewidth": 0,
              "ticks": ""
             }
            },
            "type": "scatterpolargl"
           }
          ],
          "scatterternary": [
           {
            "marker": {
             "colorbar": {
              "outlinewidth": 0,
              "ticks": ""
             }
            },
            "type": "scatterternary"
           }
          ],
          "surface": [
           {
            "colorbar": {
             "outlinewidth": 0,
             "ticks": ""
            },
            "colorscale": [
             [
              0,
              "#0d0887"
             ],
             [
              0.1111111111111111,
              "#46039f"
             ],
             [
              0.2222222222222222,
              "#7201a8"
             ],
             [
              0.3333333333333333,
              "#9c179e"
             ],
             [
              0.4444444444444444,
              "#bd3786"
             ],
             [
              0.5555555555555556,
              "#d8576b"
             ],
             [
              0.6666666666666666,
              "#ed7953"
             ],
             [
              0.7777777777777778,
              "#fb9f3a"
             ],
             [
              0.8888888888888888,
              "#fdca26"
             ],
             [
              1,
              "#f0f921"
             ]
            ],
            "type": "surface"
           }
          ],
          "table": [
           {
            "cells": {
             "fill": {
              "color": "#EBF0F8"
             },
             "line": {
              "color": "white"
             }
            },
            "header": {
             "fill": {
              "color": "#C8D4E3"
             },
             "line": {
              "color": "white"
             }
            },
            "type": "table"
           }
          ]
         },
         "layout": {
          "annotationdefaults": {
           "arrowcolor": "#2a3f5f",
           "arrowhead": 0,
           "arrowwidth": 1
          },
          "autotypenumbers": "strict",
          "coloraxis": {
           "colorbar": {
            "outlinewidth": 0,
            "ticks": ""
           }
          },
          "colorscale": {
           "diverging": [
            [
             0,
             "#8e0152"
            ],
            [
             0.1,
             "#c51b7d"
            ],
            [
             0.2,
             "#de77ae"
            ],
            [
             0.3,
             "#f1b6da"
            ],
            [
             0.4,
             "#fde0ef"
            ],
            [
             0.5,
             "#f7f7f7"
            ],
            [
             0.6,
             "#e6f5d0"
            ],
            [
             0.7,
             "#b8e186"
            ],
            [
             0.8,
             "#7fbc41"
            ],
            [
             0.9,
             "#4d9221"
            ],
            [
             1,
             "#276419"
            ]
           ],
           "sequential": [
            [
             0,
             "#0d0887"
            ],
            [
             0.1111111111111111,
             "#46039f"
            ],
            [
             0.2222222222222222,
             "#7201a8"
            ],
            [
             0.3333333333333333,
             "#9c179e"
            ],
            [
             0.4444444444444444,
             "#bd3786"
            ],
            [
             0.5555555555555556,
             "#d8576b"
            ],
            [
             0.6666666666666666,
             "#ed7953"
            ],
            [
             0.7777777777777778,
             "#fb9f3a"
            ],
            [
             0.8888888888888888,
             "#fdca26"
            ],
            [
             1,
             "#f0f921"
            ]
           ],
           "sequentialminus": [
            [
             0,
             "#0d0887"
            ],
            [
             0.1111111111111111,
             "#46039f"
            ],
            [
             0.2222222222222222,
             "#7201a8"
            ],
            [
             0.3333333333333333,
             "#9c179e"
            ],
            [
             0.4444444444444444,
             "#bd3786"
            ],
            [
             0.5555555555555556,
             "#d8576b"
            ],
            [
             0.6666666666666666,
             "#ed7953"
            ],
            [
             0.7777777777777778,
             "#fb9f3a"
            ],
            [
             0.8888888888888888,
             "#fdca26"
            ],
            [
             1,
             "#f0f921"
            ]
           ]
          },
          "colorway": [
           "#636efa",
           "#EF553B",
           "#00cc96",
           "#ab63fa",
           "#FFA15A",
           "#19d3f3",
           "#FF6692",
           "#B6E880",
           "#FF97FF",
           "#FECB52"
          ],
          "font": {
           "color": "#2a3f5f"
          },
          "geo": {
           "bgcolor": "white",
           "lakecolor": "white",
           "landcolor": "#E5ECF6",
           "showlakes": true,
           "showland": true,
           "subunitcolor": "white"
          },
          "hoverlabel": {
           "align": "left"
          },
          "hovermode": "closest",
          "mapbox": {
           "style": "light"
          },
          "paper_bgcolor": "white",
          "plot_bgcolor": "#E5ECF6",
          "polar": {
           "angularaxis": {
            "gridcolor": "white",
            "linecolor": "white",
            "ticks": ""
           },
           "bgcolor": "#E5ECF6",
           "radialaxis": {
            "gridcolor": "white",
            "linecolor": "white",
            "ticks": ""
           }
          },
          "scene": {
           "xaxis": {
            "backgroundcolor": "#E5ECF6",
            "gridcolor": "white",
            "gridwidth": 2,
            "linecolor": "white",
            "showbackground": true,
            "ticks": "",
            "zerolinecolor": "white"
           },
           "yaxis": {
            "backgroundcolor": "#E5ECF6",
            "gridcolor": "white",
            "gridwidth": 2,
            "linecolor": "white",
            "showbackground": true,
            "ticks": "",
            "zerolinecolor": "white"
           },
           "zaxis": {
            "backgroundcolor": "#E5ECF6",
            "gridcolor": "white",
            "gridwidth": 2,
            "linecolor": "white",
            "showbackground": true,
            "ticks": "",
            "zerolinecolor": "white"
           }
          },
          "shapedefaults": {
           "line": {
            "color": "#2a3f5f"
           }
          },
          "ternary": {
           "aaxis": {
            "gridcolor": "white",
            "linecolor": "white",
            "ticks": ""
           },
           "baxis": {
            "gridcolor": "white",
            "linecolor": "white",
            "ticks": ""
           },
           "bgcolor": "#E5ECF6",
           "caxis": {
            "gridcolor": "white",
            "linecolor": "white",
            "ticks": ""
           }
          },
          "title": {
           "x": 0.05
          },
          "xaxis": {
           "automargin": true,
           "gridcolor": "white",
           "linecolor": "white",
           "ticks": "",
           "title": {
            "standoff": 15
           },
           "zerolinecolor": "white",
           "zerolinewidth": 2
          },
          "yaxis": {
           "automargin": true,
           "gridcolor": "white",
           "linecolor": "white",
           "ticks": "",
           "title": {
            "standoff": 15
           },
           "zerolinecolor": "white",
           "zerolinewidth": 2
          }
         }
        },
        "title": {
         "text": "User Segmentation by RFM"
        }
       }
      }
     },
     "metadata": {},
     "output_type": "display_data"
    }
   ],
   "source": [
    "from plotly import graph_objects as go\n",
    "\n",
    "\n",
    "# 统计用户分组数量\n",
    "segment_counts = RFM['Segment Label'].value_counts().reset_index()\n",
    "segment_counts.columns = ['Segment', 'Count']\n",
    "\n",
    "# 生成标签\n",
    "labels = [\n",
    "    f\"{row['Segment']}: {int(row['Count']):,} users\"\n",
    "    for _, row in segment_counts.iterrows()\n",
    "]\n",
    "values = segment_counts['Count'].values\n",
    "\n",
    "# 配色与爆炸拉出（按顺序）\n",
    "colors = ['#CBD6D5', '#88BDBC', '#254E70', '#FFE156']\n",
    "pulls = [0.05 if v < 1000 else 0 for v in values]  # < 1000 的拉出\n",
    "\n",
    "# 绘图\n",
    "fig = go.Figure(\n",
    "    data=[go.Pie(\n",
    "        labels=labels,\n",
    "        values=values,\n",
    "        pull=pulls,\n",
    "        textinfo='percent',\n",
    "        textfont_size=16,\n",
    "        marker=dict(colors=colors, line=dict(color='white', width=1))\n",
    "    )],\n",
    "    layout=go.Layout(\n",
    "        title='User Segmentation by RFM',\n",
    "        margin=dict(l=80, r=80, t=80, b=80),\n",
    "        legend=dict(orientation=\"v\", x=1, y=0.5)\n",
    "    )\n",
    ")\n",
    "\n",
    "fig.show()\n",
    "\n",
    "\n"
   ]
  },
  {
   "cell_type": "markdown",
   "metadata": {},
   "source": [
    "Developing Users:100,874\tThese users have low recency and low frequency — they are low-engagement users, possibly new or disengaged. They make up the majority, indicating a need for activation strategies.\n",
    "\n",
    "Keep Users:58,279\tRecently active but low-frequency users. These users have potential if re-engaged. Personalized nudges or reminders could help convert them into loyal users.\n",
    "\n",
    "Important Users: 213\tHighly engaged both in recency and frequency. These are your VIPs and should be prioritized for loyalty rewards and personalized service.\n",
    "\n",
    "Retain Users:172\tThese users buy frequently but haven’t visited recently. They are at risk of churn, and reactivation efforts should be prioritized."
   ]
  }
 ],
 "metadata": {
  "kernelspec": {
   "display_name": "base",
   "language": "python",
   "name": "python3"
  },
  "language_info": {
   "codemirror_mode": {
    "name": "ipython",
    "version": 3
   },
   "file_extension": ".py",
   "mimetype": "text/x-python",
   "name": "python",
   "nbconvert_exporter": "python",
   "pygments_lexer": "ipython3",
   "version": "3.12.7"
  }
 },
 "nbformat": 4,
 "nbformat_minor": 4
}
